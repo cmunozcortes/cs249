{
  "nbformat": 4,
  "nbformat_minor": 0,
  "metadata": {
    "colab": {
      "name": "lab-2-hypothesis-testing.ipynb",
      "provenance": [],
      "collapsed_sections": [],
      "include_colab_link": true
    },
    "kernelspec": {
      "name": "python3",
      "display_name": "Python 3"
    }
  },
  "cells": [
    {
      "cell_type": "markdown",
      "metadata": {
        "id": "view-in-github",
        "colab_type": "text"
      },
      "source": [
        "<a href=\"https://colab.research.google.com/github/cmunozcortes/cs249/blob/main/lab_2_hypothesis_testing.ipynb\" target=\"_parent\"><img src=\"https://colab.research.google.com/assets/colab-badge.svg\" alt=\"Open In Colab\"/></a>"
      ]
    },
    {
      "cell_type": "markdown",
      "metadata": {
        "id": "-5GaQVV7wALa"
      },
      "source": [
        "**Due Date: Monday, October 26th, 11:59pm**\n",
        "\n",
        "- Save a copy of the notebook to your Google Drive. You can do that by going to the menu and clicking `File` > `Save` > `SAVE A COPY IN DRIVE`.\n",
        "- Fill out the missing parts and run the code modules.\n",
        "- Answer the questions (if any) in a separate document or by adding a new `Text` block inside the Colab.\n",
        "- Download the solved notebook by going to the menu and clicking `File` > `Download .ipynb`.\n",
        "- Make sure the downloaded version is showing your solutions.\n",
        "- Upload your solutions to CCLE (under \"Colab Assignment #2: Hypothesis Testing\" for Week 3)."
      ]
    },
    {
      "cell_type": "code",
      "metadata": {
        "id": "TDvxk7eov33r"
      },
      "source": [
        "import numpy as np\n",
        "from scipy import stats\n",
        "import itertools\n",
        "\n",
        "np.random.seed(0)"
      ],
      "execution_count": 1,
      "outputs": []
    },
    {
      "cell_type": "markdown",
      "metadata": {
        "id": "Ju_-DtszxJrm"
      },
      "source": [
        "Assume `y_1`, `y_2`, ..., `y_6` show the outcome of coin flips for six different coins."
      ]
    },
    {
      "cell_type": "code",
      "metadata": {
        "id": "qEj4aMUXxtE_"
      },
      "source": [
        "y_1 = np.random.binomial(1, 0.5, 50)\n",
        "y_2 = np.random.binomial(1, 0.5, 30)\n",
        "y_3 = np.random.binomial(1, 0.5, 40)\n",
        "y_4 = np.random.binomial(1, 0.5, 10)\n",
        "y_5 = np.random.binomial(1, 0.4, 30)\n",
        "y_6 = np.random.binomial(1, 0.8, 50)"
      ],
      "execution_count": 2,
      "outputs": []
    },
    {
      "cell_type": "markdown",
      "metadata": {
        "id": "0vksao5R6xt6"
      },
      "source": [
        "## One group"
      ]
    },
    {
      "cell_type": "markdown",
      "metadata": {
        "id": "BRsPmRXIyQT4"
      },
      "source": [
        "Based on the observed data, test the hypothesis that the first coin is fair. The null hypothesis for this test is $H_0: p_1 = 0.5$. Compute the p-value of this test. Do you reject the null hypothesis based on the result of this test? If not, does that mean that $p_1 = 0.5$?\n",
        "\n"
      ]
    },
    {
      "cell_type": "code",
      "metadata": {
        "id": "_oJPgjYbxIXR",
        "outputId": "84140e6b-07b0-4057-b91d-9277eb5007f0",
        "colab": {
          "base_uri": "https://localhost:8080/",
          "height": 34
        }
      },
      "source": [
        "# TODO: Assign the right value to p_val\n",
        "# Compute the value of the t-statistic\n",
        "p_1 = 0.5\n",
        "_, p_val = stats.ttest_1samp(y_1, p_1)\n",
        "# END OF TODO\n",
        "\n",
        "print(\"The p-value for the test is\", p_val)"
      ],
      "execution_count": 3,
      "outputs": [
        {
          "output_type": "stream",
          "text": [
            "The p-value for the test is 0.15938605197461647\n"
          ],
          "name": "stdout"
        }
      ]
    },
    {
      "cell_type": "markdown",
      "metadata": {
        "id": "0xObS3Z0ZjsN"
      },
      "source": [
        "_Answer_: Since the $p$-value is greater than 0.05, there's no evidence against the null hypothesis and we cannot reject it. This doesn't prove that $p_1 = 0.5$; it simply tells us that we cannot prove that $p_1$ isn't 0.5."
      ]
    },
    {
      "cell_type": "markdown",
      "metadata": {
        "id": "Gcv-hrQE1wlB"
      },
      "source": [
        "Answer the same questions for the fifth coin. This time, the null hypothesis is $H_0: p_5 = 0.5$.\n",
        "\n"
      ]
    },
    {
      "cell_type": "code",
      "metadata": {
        "id": "AdwEyRtM12H5",
        "outputId": "1a5afd9d-40ee-4f9d-c1d4-d43886298896",
        "colab": {
          "base_uri": "https://localhost:8080/",
          "height": 34
        }
      },
      "source": [
        "# TODO: Assign the right value to p_val\n",
        "p_5 = 0.5\n",
        "_, p_val = stats.ttest_1samp(y_5, p_5)\n",
        "# END OF TODO\n",
        "\n",
        "print(\"The p-value for the test is\", p_val)"
      ],
      "execution_count": 4,
      "outputs": [
        {
          "output_type": "stream",
          "text": [
            "The p-value for the test is 0.7215952675845513\n"
          ],
          "name": "stdout"
        }
      ]
    },
    {
      "cell_type": "markdown",
      "metadata": {
        "id": "-AnMP_0ahIUz"
      },
      "source": [
        "_Answer_: The situation is similar to that of the first question. Since the $p$-value is greater than 0.05, we have no evidence against the null hypothesis, and therefore we cannot reject it. As before, this doesn't mean that $p_5=0.5$; only that we can't show that it isn't equal to 0.5."
      ]
    },
    {
      "cell_type": "markdown",
      "metadata": {
        "id": "TqCRR7cN2IBh"
      },
      "source": [
        "Answer the same questions for the sixth coin. This time, the null hypothesis is $H_0: p_6 = 0.5$."
      ]
    },
    {
      "cell_type": "code",
      "metadata": {
        "id": "PfUN--Q95crO",
        "outputId": "70b1b92b-f12a-4175-b869-948942427ac8",
        "colab": {
          "base_uri": "https://localhost:8080/",
          "height": 34
        }
      },
      "source": [
        "# TODO: Assign the right value to p_val\n",
        "p_6 = 0.5\n",
        "_, p_val = stats.ttest_1samp(y_6, p_6)\n",
        "# END OF TODO\n",
        "\n",
        "print(\"The p-value for the test is\", p_val)"
      ],
      "execution_count": 5,
      "outputs": [
        {
          "output_type": "stream",
          "text": [
            "The p-value for the test is 2.6032743554578696e-09\n"
          ],
          "name": "stdout"
        }
      ]
    },
    {
      "cell_type": "markdown",
      "metadata": {
        "id": "iDIiYIYUhtly"
      },
      "source": [
        "_Answer_: Since the $p$-value in this case is much smaller than 0.05, we have strong evidence against $H_0: p_6=0.5$, and therefore we can reject it. "
      ]
    },
    {
      "cell_type": "markdown",
      "metadata": {
        "id": "XHrKxih364z3"
      },
      "source": [
        "## Two groups"
      ]
    },
    {
      "cell_type": "markdown",
      "metadata": {
        "id": "auPKBS4d0YRv"
      },
      "source": [
        "Test if the bias of the fifth coin and the sixth coin are equal to each other. The null hypothesis is $H_0: p_5 = p_6$. Compute the p-value for this test."
      ]
    },
    {
      "cell_type": "code",
      "metadata": {
        "id": "zPOb1v3Xz51H",
        "outputId": "5a5417d3-8517-4fb0-c7fb-03b9a7fcb10b",
        "colab": {
          "base_uri": "https://localhost:8080/",
          "height": 51
        }
      },
      "source": [
        "# TODO: Assign the right value to p_val\n",
        "_, p_val = stats.ttest_ind(y_5, y_6, equal_var=True)\n",
        "# END OF TODO\n",
        "print(np.var(y_5), np.var(y_6))\n",
        "\n",
        "print(\"The p-value for the test is\", p_val)"
      ],
      "execution_count": 6,
      "outputs": [
        {
          "output_type": "stream",
          "text": [
            "0.2488888888888889 0.12039999999999998\n",
            "The p-value for the test is 0.00010195054405864918\n"
          ],
          "name": "stdout"
        }
      ]
    },
    {
      "cell_type": "markdown",
      "metadata": {
        "id": "BGnX_t3iiSiC"
      },
      "source": [
        "_Answer_: Since the $p$-value is smaller than $\\alpha=0.05$, we have strong evidence against the null hypothesis and we can reject."
      ]
    },
    {
      "cell_type": "markdown",
      "metadata": {
        "id": "ocuQ5PCg7cB8"
      },
      "source": [
        "## k groups"
      ]
    },
    {
      "cell_type": "markdown",
      "metadata": {
        "id": "W03vwiPQ7fjS"
      },
      "source": [
        "Test the hypothesis that all the six coins have the same bias. The null hypothesis is $H_0: p_1 = p_2 = \\dots = p_6$. Compute the p-value for this test. Can you reject the null hypothesis based on this p-value?"
      ]
    },
    {
      "cell_type": "code",
      "metadata": {
        "id": "qf1EVfBD5tKL",
        "outputId": "d4587f61-7afc-4c6b-b8fd-4643be1095bf",
        "colab": {
          "base_uri": "https://localhost:8080/",
          "height": 34
        }
      },
      "source": [
        "# TODO: Assign the right value to p_val\n",
        "_, p_val = stats.f_oneway(y_1, y_2, y_3, y_4, y_5, y_6)\n",
        "# END OF TODO\n",
        "\n",
        "print(\"The p-value for the test is\", p_val)"
      ],
      "execution_count": 7,
      "outputs": [
        {
          "output_type": "stream",
          "text": [
            "The p-value for the test is 7.540470169238795e-05\n"
          ],
          "name": "stdout"
        }
      ]
    },
    {
      "cell_type": "markdown",
      "metadata": {
        "id": "jhxkBnvaIpx_"
      },
      "source": [
        "*Answer*: Since the $p$-value is smaller than 0.05, we can reject the null hypothesis $H_0$."
      ]
    },
    {
      "cell_type": "markdown",
      "metadata": {
        "id": "9pRSdCZC8nHC"
      },
      "source": [
        "Test the hypothesis that all the first four coins have the same bias. The null hypothesis is $H_0: p_1 = p_2 = p_3 = p_4$. Compute the p-value for this test. Can you reject the null hypothesis based on this p-value?"
      ]
    },
    {
      "cell_type": "code",
      "metadata": {
        "id": "BmU-ELrQ2Wl4",
        "outputId": "550140f2-17b5-4709-d2ea-55951a37f579",
        "colab": {
          "base_uri": "https://localhost:8080/",
          "height": 34
        }
      },
      "source": [
        "# TODO: Assign the right value to p_val\n",
        "_, p_val = stats.f_oneway(y_1, y_2, y_3, y_4)\n",
        "# END OF TODO\n",
        "\n",
        "print(\"The p-value for the test is\", p_val)"
      ],
      "execution_count": 8,
      "outputs": [
        {
          "output_type": "stream",
          "text": [
            "The p-value for the test is 0.1047599747354836\n"
          ],
          "name": "stdout"
        }
      ]
    },
    {
      "cell_type": "markdown",
      "metadata": {
        "id": "AYTpWvJhiosc"
      },
      "source": [
        "_Answer_: Since the $p$-value is small, yet greater than 0.05, we have little evidence against the null hypothesis and therefore we cannot reject it. "
      ]
    },
    {
      "cell_type": "markdown",
      "metadata": {
        "id": "Qkk8TJMG8z21"
      },
      "source": [
        "This time, let's do six pairwise two-sample t-tests between the first four coins. Meaning, let's test the null hypothesis $H_0^{(i,j)}: p_i = p_j$ for each $(i,j)$ pair where $1 \\leq i \\leq 4$, $1 \\leq j \\leq 4$, and $i \\neq j$). What is the smallest p-value you get from these six tests?"
      ]
    },
    {
      "cell_type": "code",
      "metadata": {
        "id": "cxXHdc-A3fm4",
        "outputId": "5c7e36b1-9440-4e3d-f352-f8888273daef",
        "colab": {
          "base_uri": "https://localhost:8080/",
          "height": 136
        }
      },
      "source": [
        "# TODO: Assign the right value to smallest_p_val\n",
        "#y_1 and y_2\n",
        "datasets = [y_1, y_2, y_3, y_4]\n",
        "p_vals = []\n",
        "for pair in itertools.combinations(datasets, 2):\n",
        "  _, p_val = stats.ttest_ind(pair[0], pair[1], equal_var=True)\n",
        "  print(p_val)\n",
        "  p_vals.append(p_val)\n",
        "\n",
        "smallest_p_val = np.min(p_vals)\n",
        "# END OF TODO\n",
        "\n",
        "print(\"Smallest p-value in pair-wise t-tests is: \", smallest_p_val)"
      ],
      "execution_count": 9,
      "outputs": [
        {
          "output_type": "stream",
          "text": [
            "0.020754896218989474\n",
            "0.8132719172585579\n",
            "1.0\n",
            "0.0457634815233983\n",
            "0.1431500000289418\n",
            "0.8889304592836029\n",
            "Smallest p-value in pair-wise t-tests is:  0.020754896218989474\n"
          ],
          "name": "stdout"
        }
      ]
    },
    {
      "cell_type": "markdown",
      "metadata": {
        "id": "nlfvcvYe_iK8"
      },
      "source": [
        "If we test $H_0: p_1 = p_2 = p_3 = p_4$ by doing pairwise two-sample t-tests and rejecting $H_0: p_1 = p_2 = p_3 = p_4$ if we could reject any one of these pairwise tests, will we reject $H_0$? If so, is that the right decision?\n",
        "\n",
        "*Answer*: A naive approach would be to reject $H_0$ if any of the pairwise tests yields a $p$-value less than 0.05. With this approach, however, even a small false positive rate can lead to a false rejection of $H_0$. In this case we have one pairwise test that yields a $p$-value less than 0.05, which would lead us to incorrectly reject $H_0$. This result suggests a pairwise method is not a good approach for hypothesis testing.\n",
        "Additionally, if we compare this result with ANOVA's test result, we see that ANOVA yields a value greater than $\\alpha$, which leads us to the correct determination, i.e. not to reject $H_0$."
      ]
    },
    {
      "cell_type": "code",
      "metadata": {
        "id": "joCe8T2Ju-Ue"
      },
      "source": [
        ""
      ],
      "execution_count": null,
      "outputs": []
    }
  ]
}
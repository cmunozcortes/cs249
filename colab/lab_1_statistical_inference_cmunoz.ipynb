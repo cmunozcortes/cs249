{
 "cells": [
  {
   "cell_type": "markdown",
   "metadata": {
    "id": "dG3YCsiDxQnJ"
   },
   "source": [
    "**Due Date: Monday, October 19th, 11:59pm**\n",
    "\n",
    "- Fill out the missing parts.\n",
    "- Answer the questions (if any) in a separate document or by adding a new `Text` block inside the Colab.\n",
    "- Save the notebook by going to the menu and clicking `File` > `Download .ipynb`.\n",
    "- Make sure the saved version is showing your solutions.\n",
    "- Send the saved notebook by email to your TA."
   ]
  },
  {
   "cell_type": "code",
   "execution_count": 1,
   "metadata": {
    "id": "Yz8Ny6N7EGuT"
   },
   "outputs": [],
   "source": [
    "import numpy as np\n",
    "\n",
    "np.random.seed(0)"
   ]
  },
  {
   "cell_type": "markdown",
   "metadata": {
    "id": "btbMmEgVEQr8"
   },
   "source": [
    "Simulate a dataset of 100 coin flips for a coin with $p$ = P(head) = 0.6."
   ]
  },
  {
   "cell_type": "code",
   "execution_count": 2,
   "metadata": {
    "colab": {
     "base_uri": "https://localhost:8080/",
     "height": 102
    },
    "id": "SIOwXYlrEY9x",
    "outputId": "d076e9d4-526d-4747-fdd9-cda6fea93300"
   },
   "outputs": [
    {
     "data": {
      "text/plain": [
       "array([1, 0, 0, 1, 1, 0, 1, 0, 0, 1, 0, 1, 1, 0, 1, 1, 1, 0, 0, 0, 0, 0,\n",
       "       1, 0, 1, 0, 1, 0, 1, 1, 1, 0, 1, 1, 1, 0, 0, 0, 0, 0, 1, 1, 0, 1,\n",
       "       0, 0, 1, 1, 1, 1, 1, 1, 0, 1, 1, 1, 0, 1, 1, 1, 1, 1, 0, 1, 1, 1,\n",
       "       0, 1, 0, 1, 0, 1, 0, 0, 0, 1, 1, 1, 1, 1, 1, 1, 1, 0, 1, 1, 1, 1,\n",
       "       1, 0, 1, 0, 1, 0, 1, 1, 1, 1, 0, 1])"
      ]
     },
     "execution_count": 2,
     "metadata": {},
     "output_type": "execute_result"
    }
   ],
   "source": [
    "n = 100   # number of coin flips\n",
    "p = 0.6   # probability of getting a head (not a fair coin)\n",
    "\n",
    "# A coin toss experiment can be modeled with a binomial distribution\n",
    "# if we set n=1 (one trial), which is equivalent to a Bernoulli distribution\n",
    "y = np.random.binomial(n=1, p=p, size=n)\n",
    "y"
   ]
  },
  {
   "cell_type": "markdown",
   "metadata": {
    "id": "nmqEPjrMUW3C"
   },
   "source": [
    "## Point Estimation"
   ]
  },
  {
   "cell_type": "markdown",
   "metadata": {
    "id": "JxyX_rs5ErhR"
   },
   "source": [
    "Estimate the value of $p$ using the data."
   ]
  },
  {
   "cell_type": "code",
   "execution_count": 3,
   "metadata": {
    "colab": {
     "base_uri": "https://localhost:8080/",
     "height": 34
    },
    "id": "qTEcMtoxEo0C",
    "outputId": "d1e5a8f7-9fe3-42dc-c2df-2dd0ab1f19fc"
   },
   "outputs": [
    {
     "data": {
      "text/plain": [
       "0.62"
      ]
     },
     "execution_count": 3,
     "metadata": {},
     "output_type": "execute_result"
    }
   ],
   "source": [
    "def estimator(y):\n",
    "  return 1/n * np.sum(y) # alternatively, could just use np.mean(y)\n",
    "\n",
    "p_hat = estimator(y)\n",
    "p_hat"
   ]
  },
  {
   "cell_type": "markdown",
   "metadata": {
    "id": "zyGGWZpIUZ6o"
   },
   "source": [
    "## Bootstrap"
   ]
  },
  {
   "cell_type": "markdown",
   "metadata": {
    "id": "HJrvPtLBE55_"
   },
   "source": [
    "Estimate the standard error of $\\hat{p}$ using bootstrap."
   ]
  },
  {
   "cell_type": "code",
   "execution_count": 4,
   "metadata": {
    "colab": {
     "base_uri": "https://localhost:8080/",
     "height": 51
    },
    "id": "stgo8J5dE3BC",
    "outputId": "d8cb63e9-de6e-40cd-9c32-607a5e9d8b32"
   },
   "outputs": [
    {
     "name": "stdout",
     "output_type": "stream",
     "text": [
      "Standard error of p_hat computed by bootstrap:\n",
      "0.048890480668530974\n"
     ]
    }
   ],
   "source": [
    "def bootstrap_se_est(y, stat_function, B=1000):\n",
    "  # 1. Generate bootstrap samples from the observed/simulated data (i.e. y)\n",
    "  # 2. Compute the statistic (using stat_function passed) on the bootstrap \n",
    "  #    samples\n",
    "  # 3. Compute the standard error -> std dev\n",
    "  t_boot_list = [stat_function(np.random.choice(y, len(y), replace=True)) \n",
    "                 for _ in range(B)]\n",
    "  return np.std(t_boot_list)\n",
    "\n",
    "print(\"Standard error of p_hat computed by bootstrap:\")\n",
    "print(bootstrap_se_est(y, estimator))"
   ]
  },
  {
   "cell_type": "markdown",
   "metadata": {
    "id": "BP6EIdZRHMHu"
   },
   "source": [
    "Validate the estimated standard error by computing it analytically."
   ]
  },
  {
   "cell_type": "code",
   "execution_count": 5,
   "metadata": {
    "colab": {
     "base_uri": "https://localhost:8080/",
     "height": 34
    },
    "id": "57eMJEKrHRxK",
    "outputId": "900cf1db-fb41-41fe-e3e5-a0bd8400ee13"
   },
   "outputs": [
    {
     "name": "stdout",
     "output_type": "stream",
     "text": [
      "Analytical standard error for the estimator:  0.04898979485566356\n"
     ]
    }
   ],
   "source": [
    "def estimator_analytical_se(p, n):\n",
    "  return np.sqrt(p * (1-p) / n)\n",
    "\n",
    "print(\"Analytical standard error for the estimator: \", estimator_analytical_se(p, n))"
   ]
  },
  {
   "cell_type": "markdown",
   "metadata": {
    "id": "kEbzZ0GzFcOq"
   },
   "source": [
    "Estimate the 95% confidence interval for $p$."
   ]
  },
  {
   "cell_type": "code",
   "execution_count": 6,
   "metadata": {
    "colab": {
     "base_uri": "https://localhost:8080/",
     "height": 34
    },
    "id": "JA9bFLPoFbtP",
    "outputId": "fd81f54e-6093-4e11-9bb2-7301cd87c5e7"
   },
   "outputs": [
    {
     "name": "stdout",
     "output_type": "stream",
     "text": [
      "95% confidence interval for p: (0.5254445619916019,0.717033857596202)\n"
     ]
    }
   ],
   "source": [
    "def confidence_interval_95_for_p(y):\n",
    "  ci_lower = estimator(y) - 1.96*bootstrap_se_est(y, estimator)\n",
    "  ci_higher = estimator(y) + 1.96*bootstrap_se_est(y, estimator)\n",
    "  return (ci_lower, ci_higher)\n",
    "\n",
    "lower, higher = confidence_interval_95_for_p(y)\n",
    "print(\"95% confidence interval for p: ({},{})\".format(lower, higher))"
   ]
  },
  {
   "cell_type": "markdown",
   "metadata": {
    "id": "Hcpx3uJBGrhj"
   },
   "source": [
    "Validate the 95% confidence interval for $p$."
   ]
  },
  {
   "cell_type": "code",
   "execution_count": 7,
   "metadata": {
    "colab": {
     "base_uri": "https://localhost:8080/",
     "height": 34
    },
    "id": "6HfEOWTnFVpL",
    "outputId": "abd6ecd1-4c89-41b6-ef54-edb75296b11c"
   },
   "outputs": [
    {
     "name": "stdout",
     "output_type": "stream",
     "text": [
      "Coverage of 95% confidence interval for p:  0.93\n"
     ]
    }
   ],
   "source": [
    "ci_contains_p_flags = []\n",
    "for sim in range(1000):\n",
    "  y = np.random.binomial(n=1, p=p, size=n)\n",
    "  ci_lower, ci_higher = confidence_interval_95_for_p(y)\n",
    "  if ci_lower < p and p < ci_higher:\n",
    "    ci_contains_p_flags.append(1)\n",
    "  else: \n",
    "    ci_contains_p_flags.append(0)\n",
    "\n",
    "coverage = np.mean(ci_contains_p_flags)\n",
    "print(\"Coverage of 95% confidence interval for p: \", coverage)"
   ]
  },
  {
   "cell_type": "markdown",
   "metadata": {
    "id": "HI-R7l7bUSfH"
   },
   "source": [
    "## Bayesian Inference"
   ]
  },
  {
   "cell_type": "markdown",
   "metadata": {
    "id": "8jMT3J5UMRSQ"
   },
   "source": [
    "**[Optional]**\n",
    "\n",
    "Estimate $p$ using Bayesian inference. As the prior for $p$ use Normal(0.5, 0.1)."
   ]
  },
  {
   "cell_type": "code",
   "execution_count": 8,
   "metadata": {
    "colab": {
     "base_uri": "https://localhost:8080/",
     "height": 68
    },
    "id": "C0txg3vQJkjB",
    "outputId": "b199f591-e0fe-4748-8ccd-11d9083d0542"
   },
   "outputs": [
    {
     "name": "stdout",
     "output_type": "stream",
     "text": [
      "Collecting pystan\n",
      "  Downloading pystan-2.19.1.1-cp37-cp37m-win_amd64.whl (79.8 MB)\n",
      "Requirement already satisfied: numpy>=1.7 in c:\\users\\cmunoz\\appdata\\local\\continuum\\anaconda3\\lib\\site-packages (from pystan) (1.16.2)\n",
      "Collecting Cython!=0.25.1,>=0.22\n",
      "  Downloading Cython-0.29.21-cp37-cp37m-win_amd64.whl (1.6 MB)\n",
      "Installing collected packages: Cython, pystan\n",
      "Successfully installed Cython-0.29.21 pystan-2.19.1.1\n"
     ]
    }
   ],
   "source": [
    "!pip install pystan"
   ]
  },
  {
   "cell_type": "code",
   "execution_count": 9,
   "metadata": {
    "id": "Ra2UJQhUKs7D"
   },
   "outputs": [],
   "source": [
    "import pystan"
   ]
  },
  {
   "cell_type": "code",
   "execution_count": null,
   "metadata": {
    "colab": {
     "base_uri": "https://localhost:8080/",
     "height": 238
    },
    "id": "Nxv55XQdKu8u",
    "outputId": "a0f2e7e8-14dc-4354-80d3-671a95752453"
   },
   "outputs": [],
   "source": [
    "model_code = \"\"\"\n",
    "data {\n",
    "  int<lower=0> n;\n",
    "  int<lower=0,upper=1> y[n];\n",
    "}\n",
    "parameters {\n",
    "  real<lower=0,upper=1> p;\n",
    "}\n",
    "model {\n",
    "  p ~ normal(0.5, 0.1);\n",
    "  for (i in 1:n)\n",
    "    y[i] ~ bernoulli(p);\n",
    "}\n",
    "\"\"\"\n",
    "\n",
    "model = pystan.StanModel(model_code=model_code)\n",
    "fit = model.sampling(data={\"n\": n, \"y\": y}, iter=2000, chains=4, n_jobs=4)\n",
    "print(fit.stansummary())"
   ]
  },
  {
   "cell_type": "markdown",
   "metadata": {
    "id": "ay1eqe-dOBKH"
   },
   "source": [
    "Compute the Bayesian inference results if our data contains 20 coin tosses instead."
   ]
  },
  {
   "cell_type": "code",
   "execution_count": null,
   "metadata": {
    "colab": {
     "base_uri": "https://localhost:8080/",
     "height": 238
    },
    "id": "-hR9NG-YMlvB",
    "outputId": "3056c73a-271f-4b21-f263-93d4faf67075"
   },
   "outputs": [],
   "source": [
    "n = 20\n",
    "p = 0.6\n",
    "y = np.random.binomial(1, p, n)\n",
    "\n",
    "model = pystan.StanModel(model_code=model_code)\n",
    "fit = model.sampling(data={\"n\": n, \"y\": y}, iter=2000, chains=4, n_jobs=4)\n",
    "print(fit.stansummary())"
   ]
  }
 ],
 "metadata": {
  "colab": {
   "collapsed_sections": [],
   "name": "lab-1-statistical-inference.ipynb",
   "provenance": []
  },
  "kernelspec": {
   "display_name": "Python 3",
   "language": "python",
   "name": "python3"
  },
  "language_info": {
   "codemirror_mode": {
    "name": "ipython",
    "version": 3
   },
   "file_extension": ".py",
   "mimetype": "text/x-python",
   "name": "python",
   "nbconvert_exporter": "python",
   "pygments_lexer": "ipython3",
   "version": "3.7.1"
  }
 },
 "nbformat": 4,
 "nbformat_minor": 1
}

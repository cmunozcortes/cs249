{
  "nbformat": 4,
  "nbformat_minor": 0,
  "metadata": {
    "colab": {
      "name": "lab-5-prediction-classification.ipynb",
      "provenance": [],
      "collapsed_sections": []
    },
    "kernelspec": {
      "name": "python3",
      "display_name": "Python 3"
    }
  },
  "cells": [
    {
      "cell_type": "markdown",
      "metadata": {
        "id": "a1iV7ShrajpK"
      },
      "source": [
        "**Due Date: Monday, November 23rd, 11:59pm**\n",
        "\n",
        "- Save a copy of the notebook to your Google Drive. You can do that by going to the menu and clicking `File` > `Save` > `SAVE A COPY IN DRIVE`.\n",
        "- Fill out the missing parts and run the code modules.\n",
        "- Answer the questions (if any) in a separate document or by adding a new `Text` block inside the Colab.\n",
        "- Download the solved notebook by going to the menu and clicking `File` > `Download .ipynb`.\n",
        "- Make sure the downloaded version is showing your solutions.\n",
        "- Upload your solutions to CCLE (under \"Colab Assignment #5: Prediction - Classification\" for Week 7)."
      ]
    },
    {
      "cell_type": "code",
      "metadata": {
        "id": "8gttap207s7V"
      },
      "source": [
        "import numpy as np\n",
        "import pandas as pd\n",
        "import matplotlib.pyplot as plt\n",
        "from sklearn.model_selection import train_test_split\n",
        "from sklearn import metrics\n",
        "\n",
        "np.random.seed(0)"
      ],
      "execution_count": 1,
      "outputs": []
    },
    {
      "cell_type": "markdown",
      "metadata": {
        "id": "0yMXGmqo7mvh"
      },
      "source": [
        "We are going to work with a dataset of credit card defaults in Taiwan. You can check the original dataset [here](https://archive.ics.uci.edu/ml/datasets/default+of+credit+card+clients). We download a cleaned and slightly modified version of this dataset to use here.\n"
      ]
    },
    {
      "cell_type": "code",
      "metadata": {
        "id": "E3AidFSx7GNc",
        "colab": {
          "base_uri": "https://localhost:8080/"
        },
        "outputId": "94247412-960a-44dd-cbbc-fd625b09d9fd"
      },
      "source": [
        "!wget -O credit_card_defaults_clean.csv https://www.dropbox.com/s/xy1jbcrfbj8lqps/credit_card_default_clean.csv?dl=0"
      ],
      "execution_count": 2,
      "outputs": [
        {
          "output_type": "stream",
          "text": [
            "--2020-11-24 02:40:07--  https://www.dropbox.com/s/xy1jbcrfbj8lqps/credit_card_default_clean.csv?dl=0\n",
            "Resolving www.dropbox.com (www.dropbox.com)... 162.125.5.1, 2620:100:601f:1::a27d:901\n",
            "Connecting to www.dropbox.com (www.dropbox.com)|162.125.5.1|:443... connected.\n",
            "HTTP request sent, awaiting response... 301 Moved Permanently\n",
            "Location: /s/raw/xy1jbcrfbj8lqps/credit_card_default_clean.csv [following]\n",
            "--2020-11-24 02:40:08--  https://www.dropbox.com/s/raw/xy1jbcrfbj8lqps/credit_card_default_clean.csv\n",
            "Reusing existing connection to www.dropbox.com:443.\n",
            "HTTP request sent, awaiting response... 302 Found\n",
            "Location: https://uc7e4d2206522f241e87451b047f.dl.dropboxusercontent.com/cd/0/inline/BDzkMn1wThRlzCDGrdV-EEHxUN5IRHyCLR6Gs9_RaOMGlJzP6UuN1tpqkXoXuS1Jwn0mlJppgwsjGsRtUWE50ygRyU8MxGmGVrrC8RZODe_mh4GYzQNGNRKUaW5nkXe65AI/file# [following]\n",
            "--2020-11-24 02:40:08--  https://uc7e4d2206522f241e87451b047f.dl.dropboxusercontent.com/cd/0/inline/BDzkMn1wThRlzCDGrdV-EEHxUN5IRHyCLR6Gs9_RaOMGlJzP6UuN1tpqkXoXuS1Jwn0mlJppgwsjGsRtUWE50ygRyU8MxGmGVrrC8RZODe_mh4GYzQNGNRKUaW5nkXe65AI/file\n",
            "Resolving uc7e4d2206522f241e87451b047f.dl.dropboxusercontent.com (uc7e4d2206522f241e87451b047f.dl.dropboxusercontent.com)... 162.125.9.15, 2620:100:601f:15::a27d:90f\n",
            "Connecting to uc7e4d2206522f241e87451b047f.dl.dropboxusercontent.com (uc7e4d2206522f241e87451b047f.dl.dropboxusercontent.com)|162.125.9.15|:443... connected.\n",
            "HTTP request sent, awaiting response... 200 OK\n",
            "Length: 1428011 (1.4M) [text/plain]\n",
            "Saving to: ‘credit_card_defaults_clean.csv’\n",
            "\n",
            "credit_card_default 100%[===================>]   1.36M  --.-KB/s    in 0.1s    \n",
            "\n",
            "2020-11-24 02:40:09 (12.3 MB/s) - ‘credit_card_defaults_clean.csv’ saved [1428011/1428011]\n",
            "\n"
          ],
          "name": "stdout"
        }
      ]
    },
    {
      "cell_type": "markdown",
      "metadata": {
        "id": "NCLWsAx_8-fk"
      },
      "source": [
        "Load the data."
      ]
    },
    {
      "cell_type": "code",
      "metadata": {
        "id": "-DEJzJRv840X",
        "colab": {
          "base_uri": "https://localhost:8080/",
          "height": 159
        },
        "outputId": "d95f61c2-81da-459c-e9e0-f5472c255996"
      },
      "source": [
        "default_data = pd.read_csv(\"./credit_card_defaults_clean.csv\")\n",
        "\n",
        "print(\"The first three rows of the data are:\")\n",
        "default_data.head(3)"
      ],
      "execution_count": 3,
      "outputs": [
        {
          "output_type": "stream",
          "text": [
            "The first three rows of the data are:\n"
          ],
          "name": "stdout"
        },
        {
          "output_type": "execute_result",
          "data": {
            "text/html": [
              "<div>\n",
              "<style scoped>\n",
              "    .dataframe tbody tr th:only-of-type {\n",
              "        vertical-align: middle;\n",
              "    }\n",
              "\n",
              "    .dataframe tbody tr th {\n",
              "        vertical-align: top;\n",
              "    }\n",
              "\n",
              "    .dataframe thead th {\n",
              "        text-align: right;\n",
              "    }\n",
              "</style>\n",
              "<table border=\"1\" class=\"dataframe\">\n",
              "  <thead>\n",
              "    <tr style=\"text-align: right;\">\n",
              "      <th></th>\n",
              "      <th>limit_bal</th>\n",
              "      <th>sex</th>\n",
              "      <th>education</th>\n",
              "      <th>marriage</th>\n",
              "      <th>age</th>\n",
              "      <th>last_payment</th>\n",
              "      <th>last_balance</th>\n",
              "      <th>default</th>\n",
              "    </tr>\n",
              "  </thead>\n",
              "  <tbody>\n",
              "    <tr>\n",
              "      <th>0</th>\n",
              "      <td>20000</td>\n",
              "      <td>female</td>\n",
              "      <td>university</td>\n",
              "      <td>married</td>\n",
              "      <td>24</td>\n",
              "      <td>0</td>\n",
              "      <td>3913</td>\n",
              "      <td>1</td>\n",
              "    </tr>\n",
              "    <tr>\n",
              "      <th>1</th>\n",
              "      <td>120000</td>\n",
              "      <td>female</td>\n",
              "      <td>university</td>\n",
              "      <td>single</td>\n",
              "      <td>26</td>\n",
              "      <td>0</td>\n",
              "      <td>2682</td>\n",
              "      <td>1</td>\n",
              "    </tr>\n",
              "    <tr>\n",
              "      <th>2</th>\n",
              "      <td>90000</td>\n",
              "      <td>female</td>\n",
              "      <td>university</td>\n",
              "      <td>single</td>\n",
              "      <td>34</td>\n",
              "      <td>1518</td>\n",
              "      <td>29239</td>\n",
              "      <td>0</td>\n",
              "    </tr>\n",
              "  </tbody>\n",
              "</table>\n",
              "</div>"
            ],
            "text/plain": [
              "   limit_bal     sex   education  ... last_payment  last_balance  default\n",
              "0      20000  female  university  ...            0          3913        1\n",
              "1     120000  female  university  ...            0          2682        1\n",
              "2      90000  female  university  ...         1518         29239        0\n",
              "\n",
              "[3 rows x 8 columns]"
            ]
          },
          "metadata": {
            "tags": []
          },
          "execution_count": 3
        }
      ]
    },
    {
      "cell_type": "markdown",
      "metadata": {
        "id": "iUQjorXO9OWI"
      },
      "source": [
        "We are going to use this dataset to predict the probability of default for a credit card customer based on the features in our data.\n",
        "\n",
        "## Preprocessing data\n",
        "\n",
        "Separate features and label into two different variables."
      ]
    },
    {
      "cell_type": "code",
      "metadata": {
        "id": "Erae4Yqp9Bb-",
        "colab": {
          "base_uri": "https://localhost:8080/"
        },
        "outputId": "4a03c18a-1c92-4f0d-a89b-55e346aa8b2b"
      },
      "source": [
        "# TODO: Assign the right values to X and y\n",
        "X = default_data.drop(labels='default', axis=1)\n",
        "y = default_data.default\n",
        "# END OF TODO\n",
        "\n",
        "print(\"shape of X is: \", X.shape)\n",
        "print(\"shape of y is: \", y.shape)"
      ],
      "execution_count": 4,
      "outputs": [
        {
          "output_type": "stream",
          "text": [
            "shape of X is:  (29601, 7)\n",
            "shape of y is:  (29601,)\n"
          ],
          "name": "stdout"
        }
      ]
    },
    {
      "cell_type": "markdown",
      "metadata": {
        "id": "KHGIeA82-Ov6"
      },
      "source": [
        "Convert categorical features to 0-1 indicator variables."
      ]
    },
    {
      "cell_type": "code",
      "metadata": {
        "id": "btYTKxmm-HNW",
        "colab": {
          "base_uri": "https://localhost:8080/",
          "height": 159
        },
        "outputId": "2a33d4fc-a906-46ee-a667-67db5218f161"
      },
      "source": [
        "# TODO: Update X\n",
        "X = pd.get_dummies(\n",
        "    data=X, \n",
        "    columns=['sex', 'education', 'marriage'], \n",
        "    drop_first=True\n",
        ")\n",
        "# END OF TODO\n",
        "\n",
        "print(\"The first three rows for the features are:\")\n",
        "X.head(3)"
      ],
      "execution_count": 5,
      "outputs": [
        {
          "output_type": "stream",
          "text": [
            "The first three rows for the features are:\n"
          ],
          "name": "stdout"
        },
        {
          "output_type": "execute_result",
          "data": {
            "text/html": [
              "<div>\n",
              "<style scoped>\n",
              "    .dataframe tbody tr th:only-of-type {\n",
              "        vertical-align: middle;\n",
              "    }\n",
              "\n",
              "    .dataframe tbody tr th {\n",
              "        vertical-align: top;\n",
              "    }\n",
              "\n",
              "    .dataframe thead th {\n",
              "        text-align: right;\n",
              "    }\n",
              "</style>\n",
              "<table border=\"1\" class=\"dataframe\">\n",
              "  <thead>\n",
              "    <tr style=\"text-align: right;\">\n",
              "      <th></th>\n",
              "      <th>limit_bal</th>\n",
              "      <th>age</th>\n",
              "      <th>last_payment</th>\n",
              "      <th>last_balance</th>\n",
              "      <th>sex_male</th>\n",
              "      <th>education_high school</th>\n",
              "      <th>education_others</th>\n",
              "      <th>education_university</th>\n",
              "      <th>marriage_others</th>\n",
              "      <th>marriage_single</th>\n",
              "    </tr>\n",
              "  </thead>\n",
              "  <tbody>\n",
              "    <tr>\n",
              "      <th>0</th>\n",
              "      <td>20000</td>\n",
              "      <td>24</td>\n",
              "      <td>0</td>\n",
              "      <td>3913</td>\n",
              "      <td>0</td>\n",
              "      <td>0</td>\n",
              "      <td>0</td>\n",
              "      <td>1</td>\n",
              "      <td>0</td>\n",
              "      <td>0</td>\n",
              "    </tr>\n",
              "    <tr>\n",
              "      <th>1</th>\n",
              "      <td>120000</td>\n",
              "      <td>26</td>\n",
              "      <td>0</td>\n",
              "      <td>2682</td>\n",
              "      <td>0</td>\n",
              "      <td>0</td>\n",
              "      <td>0</td>\n",
              "      <td>1</td>\n",
              "      <td>0</td>\n",
              "      <td>1</td>\n",
              "    </tr>\n",
              "    <tr>\n",
              "      <th>2</th>\n",
              "      <td>90000</td>\n",
              "      <td>34</td>\n",
              "      <td>1518</td>\n",
              "      <td>29239</td>\n",
              "      <td>0</td>\n",
              "      <td>0</td>\n",
              "      <td>0</td>\n",
              "      <td>1</td>\n",
              "      <td>0</td>\n",
              "      <td>1</td>\n",
              "    </tr>\n",
              "  </tbody>\n",
              "</table>\n",
              "</div>"
            ],
            "text/plain": [
              "   limit_bal  age  ...  marriage_others  marriage_single\n",
              "0      20000   24  ...                0                0\n",
              "1     120000   26  ...                0                1\n",
              "2      90000   34  ...                0                1\n",
              "\n",
              "[3 rows x 10 columns]"
            ]
          },
          "metadata": {
            "tags": []
          },
          "execution_count": 5
        }
      ]
    },
    {
      "cell_type": "markdown",
      "metadata": {
        "id": "c3yPiRc0-x85"
      },
      "source": [
        "Divide the data into train-validation-test datasets using 80%-10%-10% split."
      ]
    },
    {
      "cell_type": "code",
      "metadata": {
        "id": "MeM3kGbs-lpK",
        "colab": {
          "base_uri": "https://localhost:8080/"
        },
        "outputId": "6a47f1a0-7373-4ac0-9e81-c8804c66be6a"
      },
      "source": [
        "# TODO: Assign the right values to X_train, X_val, X_test, y_train, y_val, y_test\n",
        "X_train, X_val_test, y_train, y_val_test = train_test_split(\n",
        "    X,\n",
        "    y,\n",
        "    test_size=0.2,\n",
        "    shuffle=True,\n",
        "    random_state=0\n",
        ")\n",
        "\n",
        "X_val, X_test, y_val, y_test = train_test_split(\n",
        "    X_val_test,\n",
        "    y_val_test,\n",
        "    test_size=0.5,\n",
        "    shuffle=True,\n",
        "    random_state=0\n",
        ")\n",
        "# END OF TODO\n",
        "\n",
        "print(\"shape of X_train is: \", X_train.shape)\n",
        "print(\"shape of X_val is: \", X_val.shape)\n",
        "print(\"shape of X_test is: \", X_test.shape)"
      ],
      "execution_count": 6,
      "outputs": [
        {
          "output_type": "stream",
          "text": [
            "shape of X_train is:  (23680, 10)\n",
            "shape of X_val is:  (2960, 10)\n",
            "shape of X_test is:  (2961, 10)\n"
          ],
          "name": "stdout"
        }
      ]
    },
    {
      "cell_type": "markdown",
      "metadata": {
        "id": "3Nm82pos_1B3"
      },
      "source": [
        "##Logistic Regression (Linear Model)\n",
        "\n",
        "Use the logistic regression to develop a model for predicting default on credit card loan based on the observed data."
      ]
    },
    {
      "cell_type": "code",
      "metadata": {
        "id": "B-WqS9G1_rWU",
        "colab": {
          "base_uri": "https://localhost:8080/"
        },
        "outputId": "23462196-88d2-464e-e21f-b34167553e9d"
      },
      "source": [
        "from sklearn.linear_model import LogisticRegression\n",
        "\n",
        "# TODO: Fit a logistic regression model with L-1 regularization to the data\n",
        "#       Use 1.0 for the regularization parameter (C = 1.0)\n",
        "model_lr = LogisticRegression(\n",
        "    solver='liblinear',\n",
        "    penalty='l1',\n",
        "    C=1.0\n",
        ")\n",
        "model_lr.fit(X_train, y_train)\n",
        "# END OF TODO\n",
        "\n",
        "preds_train = model_lr.predict(X_train)\n",
        "preds_val = model_lr.predict(X_val)\n",
        "print(\"First four 0-1 predictions for the validation set:\")\n",
        "print(preds_val[0:4])\n",
        "\n",
        "probs_train = model_lr.predict_proba(X_train)[:, 1]\n",
        "probs_val = model_lr.predict_proba(X_val)[:, 1]\n",
        "print(\"First four predicted probabilities for positive label in the validation set:\")\n",
        "print(probs_val[0:4])"
      ],
      "execution_count": 7,
      "outputs": [
        {
          "output_type": "stream",
          "text": [
            "First four 0-1 predictions for the validation set:\n",
            "[0 0 0 0]\n",
            "First four predicted probabilities for positive label in the validation set:\n",
            "[0.30186048 0.17359243 0.17113821 0.26530508]\n"
          ],
          "name": "stdout"
        }
      ]
    },
    {
      "cell_type": "markdown",
      "metadata": {
        "id": "JRLa7HU96RFu"
      },
      "source": [
        "Let's look at the coefficients in the logistic regression model:"
      ]
    },
    {
      "cell_type": "code",
      "metadata": {
        "id": "nIn9UEklFb9P",
        "colab": {
          "base_uri": "https://localhost:8080/"
        },
        "outputId": "5048cc1a-bfcf-4722-efc8-951c275d40b4"
      },
      "source": [
        "print(\"intercept: \", model_lr.intercept_[0])\n",
        "for feature, coef in zip(X_train.columns, model_lr.coef_[0]):\n",
        "    print(feature, \":\", coef)"
      ],
      "execution_count": 8,
      "outputs": [
        {
          "output_type": "stream",
          "text": [
            "intercept:  -0.7930045105475702\n",
            "limit_bal : -3.298660449793991e-06\n",
            "age : 0.0035675149982054848\n",
            "last_payment : -2.638546514041504e-05\n",
            "last_balance : 1.5395523612427846e-06\n",
            "sex_male : 0.16207543823228462\n",
            "education_high school : 0.010763256319760819\n",
            "education_others : -1.1399870030050172\n",
            "education_university : 0.023683048189479916\n",
            "marriage_others : -0.06292221049839333\n",
            "marriage_single : -0.2005529505514575\n"
          ],
          "name": "stdout"
        }
      ]
    },
    {
      "cell_type": "markdown",
      "metadata": {
        "id": "4EEdTuEk6aEa"
      },
      "source": [
        "How can you interpret the value of the coefficient for `last_payment`?\n",
        "\n",
        "_Answer_: For a one-unit increase in `last payment`, while all other features remain the same, the expected change in the odds of the sample belonging to one class or the other is $e^{-2.6\\text{e}-5}$, which is approximately equal to 1. \n",
        "\n",
        "Let's check the confusion matrix in the training data if we use 0-1 predictions from the model (using 0.5 as the probability threshold):"
      ]
    },
    {
      "cell_type": "code",
      "metadata": {
        "id": "VsIxg2syILrC",
        "colab": {
          "base_uri": "https://localhost:8080/"
        },
        "outputId": "f15dded4-032c-4e27-b842-0ac6ab62e5dc"
      },
      "source": [
        "confusion_matrix_train = metrics.confusion_matrix(y_train, preds_train)\n",
        "print(\"Confusion matrix for the training set:\")\n",
        "print(confusion_matrix_train)"
      ],
      "execution_count": 9,
      "outputs": [
        {
          "output_type": "stream",
          "text": [
            "Confusion matrix for the training set:\n",
            "[[18342     0]\n",
            " [ 5338     0]]\n"
          ],
          "name": "stdout"
        }
      ]
    },
    {
      "cell_type": "markdown",
      "metadata": {
        "id": "tV4Y5jvuJSrX"
      },
      "source": [
        "What are the values in each cell in this confusion matrix correspond to? Based on this confusion matrix, do you think these predictions from the model are useful at all?\n",
        "\n",
        "_Answer_: The top left corner is the number of true negatives, the top right corner is the number of false positive, the bottom left corner is the number of false negatives, and the bottom right corner is the number of true positives. The predictions from the model are not very useful because they classify all the samples as belonging to one class only. \n",
        "\n",
        "Now, let's use 0.2 as the probability threshold, assign positive prediction if the prediction probability was > 0.2, and compute the confusion matrix again."
      ]
    },
    {
      "cell_type": "code",
      "metadata": {
        "id": "3StpnzKyJlfq",
        "colab": {
          "base_uri": "https://localhost:8080/"
        },
        "outputId": "6f9d746d-b91e-40f4-e682-0cd95e68cbda"
      },
      "source": [
        "confusion_matrix_train = metrics.confusion_matrix(y_train, probs_train > 0.2)\n",
        "print(\"Confusion matrix for the training set:\")\n",
        "print(confusion_matrix_train)"
      ],
      "execution_count": 10,
      "outputs": [
        {
          "output_type": "stream",
          "text": [
            "Confusion matrix for the training set:\n",
            "[[ 7273 11069]\n",
            " [ 1157  4181]]\n"
          ],
          "name": "stdout"
        }
      ]
    },
    {
      "cell_type": "markdown",
      "metadata": {
        "id": "VgJ3TDqrIMId"
      },
      "source": [
        "What is the number of false positives in the training set for this model?\n",
        "\n",
        "_Answer_: The number of false positives in the training set for this model is 11069."
      ]
    },
    {
      "cell_type": "markdown",
      "metadata": {
        "id": "LRpaKrJ8VouH"
      },
      "source": [
        "To measure the performance of the model independent of the probability threshold, let' look at the AUC of the model in the training and validation sets:"
      ]
    },
    {
      "cell_type": "code",
      "metadata": {
        "id": "CdABi6IOFdoD",
        "colab": {
          "base_uri": "https://localhost:8080/"
        },
        "outputId": "191173d7-aee0-48e9-9a64-cba7b9fccf09"
      },
      "source": [
        "fpr, tpr, thresholds = metrics.roc_curve(y_train, probs_train)\n",
        "auc_train = metrics.auc(fpr, tpr)\n",
        "print(\"AUC of the model in the training set is: \", auc_train)\n",
        "\n",
        "fpr, tpr, thresholds = metrics.roc_curve(y_val, probs_val)\n",
        "auc_val = metrics.auc(fpr, tpr)\n",
        "print(\"AUC of the model in the validation set is: \", auc_val)"
      ],
      "execution_count": 11,
      "outputs": [
        {
          "output_type": "stream",
          "text": [
            "AUC of the model in the training set is:  0.6383688479319228\n",
            "AUC of the model in the validation set is:  0.6227321425133197\n"
          ],
          "name": "stdout"
        }
      ]
    },
    {
      "cell_type": "markdown",
      "metadata": {
        "id": "zS2dnw958nf1"
      },
      "source": [
        "Based on these metrics, do you see any overfitting to the training data in this model?\n",
        "\n",
        "_Answer_: Yes, but since it is relatively small we can still consider the model as usable/functional.\n",
        "\n",
        "##Decision Tree (Non-linear Model)\n",
        "\n",
        "This time, let's apply a decision tree model to the classification problem."
      ]
    },
    {
      "cell_type": "code",
      "metadata": {
        "id": "YEwsu3Kr79WN",
        "colab": {
          "base_uri": "https://localhost:8080/"
        },
        "outputId": "b51738ca-d406-45ed-ada7-34529583abd0"
      },
      "source": [
        "from sklearn import tree\n",
        "\n",
        "# TODO: Fit a decision tree to the data\n",
        "#       Use cross-entropy for the split\n",
        "#       Use 3 as the maximum depth of the tree\n",
        "#       Use 100 as minimum number of samples for a split at a node\n",
        "#       Don't forget to set the random_state to 0.\n",
        "model_dt = tree.DecisionTreeClassifier(\n",
        "    criterion='entropy',\n",
        "    max_depth=3,\n",
        "    min_samples_split=100,\n",
        "    random_state=0\n",
        ")\n",
        "model_dt.fit(X_train, y_train)\n",
        "# END OF TODO\n",
        "\n",
        "preds_train = model_dt.predict(X_train)\n",
        "preds_val = model_dt.predict(X_val)\n",
        "print(\"First four 0-1 predictions for the validation set:\")\n",
        "print(preds_val[0:4])\n",
        "\n",
        "probs_train = model_dt.predict_proba(X_train)[:, 1]\n",
        "probs_val = model_dt.predict_proba(X_val)[:, 1]\n",
        "print(\"First four predicted probabilities for positive label in the validation set:\")\n",
        "print(probs_val[0:4])"
      ],
      "execution_count": 12,
      "outputs": [
        {
          "output_type": "stream",
          "text": [
            "First four 0-1 predictions for the validation set:\n",
            "[0 0 0 0]\n",
            "First four predicted probabilities for positive label in the validation set:\n",
            "[0.49553571 0.11384181 0.17715232 0.23006177]\n"
          ],
          "name": "stdout"
        }
      ]
    },
    {
      "cell_type": "markdown",
      "metadata": {
        "id": "gZACi2gxD5M0"
      },
      "source": [
        "Let's draw the tree to see what is happening inside the fitted model."
      ]
    },
    {
      "cell_type": "code",
      "metadata": {
        "id": "XTzJYiBE-nRh",
        "colab": {
          "base_uri": "https://localhost:8080/",
          "height": 303
        },
        "outputId": "bcb2c767-53f1-4d11-d076-f50bb5f28e00"
      },
      "source": [
        "plt.rcParams['figure.figsize'] = [14, 5]\n",
        "tree.plot_tree(model_dt, \n",
        "               feature_names=X_train.columns)\n",
        "plt.show()"
      ],
      "execution_count": 13,
      "outputs": [
        {
          "output_type": "display_data",
          "data": {
            "image/png": "[encoded data removed]",
            "text/plain": [
              "<Figure size 1008x360 with 1 Axes>"
            ]
          },
          "metadata": {
            "tags": [],
            "needs_background": "light"
          }
        }
      ]
    },
    {
      "cell_type": "markdown",
      "metadata": {
        "id": "FYRGRtLfEAah"
      },
      "source": [
        "Based on the diagram, which feature is splitted at the root of the tree?\n",
        "\n",
        "_Answer_: The feature that is used to generate the first split is `limit_bal`.\n",
        "\n",
        "Next, let's compute the AUC of this model."
      ]
    },
    {
      "cell_type": "code",
      "metadata": {
        "id": "sM4JH7VJCm1w",
        "colab": {
          "base_uri": "https://localhost:8080/"
        },
        "outputId": "da2d3b55-f26e-4f4c-cbb2-d30ade6a14ff"
      },
      "source": [
        "# TODO: Assign the correct values to auc_train and auc_val\n",
        "fpr_train, tpr_train, thresholds = metrics.roc_curve(\n",
        "    y_train, probs_train, pos_label=1\n",
        ")\n",
        "\n",
        "fpr_val, tpr_val, thresholds = metrics.roc_curve(\n",
        "    y_val, probs_val, pos_label=1\n",
        ")\n",
        "\n",
        "auc_train = metrics.auc(fpr_train, tpr_train)\n",
        "auc_val = metrics.auc(fpr_val, tpr_val)\n",
        "# END OF TODO\n",
        "\n",
        "print(\"AUC of the model in the training set is: \", auc_train)\n",
        "print(\"AUC of the model in the validation set is: \", auc_val)"
      ],
      "execution_count": 14,
      "outputs": [
        {
          "output_type": "stream",
          "text": [
            "AUC of the model in the training set is:  0.6570252164047332\n",
            "AUC of the model in the validation set is:  0.6388784213841495\n"
          ],
          "name": "stdout"
        }
      ]
    },
    {
      "cell_type": "markdown",
      "metadata": {
        "id": "8jKfkp5rEjlu"
      },
      "source": [
        "Is this model performing better in the prediction task over the validation set compared to logistic regression?\n",
        "\n",
        "_Answer_: the decision tree model performs a better on the validation set than the logistic classification model."
      ]
    },
    {
      "cell_type": "markdown",
      "metadata": {
        "id": "c2P6BxRAEME-"
      },
      "source": [
        "##Out-of-sample Validation\n",
        "\n",
        "Finally, let's estimate the prediction error of the best model for new data by using the test set."
      ]
    },
    {
      "cell_type": "code",
      "metadata": {
        "id": "Akvw_XBDDuXq",
        "colab": {
          "base_uri": "https://localhost:8080/"
        },
        "outputId": "894b1ed2-2526-4ca8-aa14-6c71914c8aa7"
      },
      "source": [
        "# TODO: Assign the correct values to auc_test\n",
        "pred_prob_test = model_dt.predict_proba(X_test)[:,1]\n",
        "fpr, tpr, thresholds = metrics.roc_curve(\n",
        "    y_test, pred_prob_test, pos_label=1\n",
        ")\n",
        "auc_test = metrics.auc(fpr, tpr)\n",
        "# END OF TODO\n",
        "\n",
        "print(\"AUC of the model in the test set is: \", auc_test)"
      ],
      "execution_count": 15,
      "outputs": [
        {
          "output_type": "stream",
          "text": [
            "AUC of the model in the test set is:  0.6439497395937931\n"
          ],
          "name": "stdout"
        }
      ]
    },
    {
      "cell_type": "markdown",
      "metadata": {
        "id": "hSErYKEYFlTQ"
      },
      "source": [
        "Apply the following code to draw the ROC curve for the model in the test set."
      ]
    },
    {
      "cell_type": "code",
      "metadata": {
        "id": "CJx6kgcvFhJz",
        "colab": {
          "base_uri": "https://localhost:8080/",
          "height": 350
        },
        "outputId": "84cfe0f0-18fc-4fac-e4c2-ab83db0e8fa0"
      },
      "source": [
        "plt.rcParams['figure.figsize'] = [5, 5]\n",
        "plt.figure()\n",
        "plt.plot(fpr, tpr)\n",
        "plt.xlim([0.0, 1.0])\n",
        "plt.ylim([0.0, 1.0])\n",
        "plt.xlabel('False Positive Rate')\n",
        "plt.ylabel('True Positive Rate')\n",
        "plt.title('ROC Curve')\n",
        "plt.show()"
      ],
      "execution_count": 16,
      "outputs": [
        {
          "output_type": "display_data",
          "data": {
            "image/png": "[encoded data removed]",
            "text/plain": [
              "<Figure size 360x360 with 1 Axes>"
            ]
          },
          "metadata": {
            "tags": [],
            "needs_background": "light"
          }
        }
      ]
    }
  ]
}
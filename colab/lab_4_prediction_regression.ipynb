{
  "nbformat": 4,
  "nbformat_minor": 0,
  "metadata": {
    "colab": {
      "name": "lab-4-prediction-regression.ipynb",
      "provenance": [],
      "collapsed_sections": [],
      "include_colab_link": true
    },
    "kernelspec": {
      "name": "python3",
      "display_name": "Python 3"
    }
  },
  "cells": [
    {
      "cell_type": "markdown",
      "metadata": {
        "id": "view-in-github",
        "colab_type": "text"
      },
      "source": [
        "<a href=\"https://colab.research.google.com/github/cmunozcortes/cs249/blob/main/colab/lab_4_prediction_regression.ipynb\" target=\"_parent\"><img src=\"https://colab.research.google.com/assets/colab-badge.svg\" alt=\"Open In Colab\"/></a>"
      ]
    },
    {
      "cell_type": "markdown",
      "metadata": {
        "id": "jeAsuXPaMRxn"
      },
      "source": [
        "**Due Date: Monday, November 16nd, 11:59pm**\n",
        "\n",
        "- Save a copy of the notebook to your Google Drive. You can do that by going to the menu and clicking `File` > `Save` > `SAVE A COPY IN DRIVE`.\n",
        "- Fill out the missing parts and run the code modules.\n",
        "- Answer the questions (if any) in a separate document or by adding a new `Text` block inside the Colab.\n",
        "- Download the solved notebook by going to the menu and clicking `File` > `Download .ipynb`.\n",
        "- Make sure the downloaded version is showing your solutions.\n",
        "- Upload your solutions to CCLE (under \"Colab Assignment #4: Prediction - Regression\" for Week 6)."
      ]
    },
    {
      "cell_type": "code",
      "metadata": {
        "id": "Xtu7waVKfby6"
      },
      "source": [
        "import numpy as np\n",
        "import pandas as pd\n",
        "import matplotlib.pyplot as plt\n",
        "\n",
        "np.random.seed(0)"
      ],
      "execution_count": 1,
      "outputs": []
    },
    {
      "cell_type": "markdown",
      "metadata": {
        "id": "NlDiG28CTOAF"
      },
      "source": [
        "Download the data for house prices."
      ]
    },
    {
      "cell_type": "code",
      "metadata": {
        "id": "qItY1pveTMrU",
        "outputId": "1f69c517-3f8e-473e-b71e-9beab472d45f",
        "colab": {
          "base_uri": "https://localhost:8080/"
        }
      },
      "source": [
        "!wget -O house_prices.csv https://www.dropbox.com/s/v14nl9kcgqoqn36/house_prices.csv?dl=0"
      ],
      "execution_count": 2,
      "outputs": [
        {
          "output_type": "stream",
          "text": [
            "--2020-11-15 14:26:39--  https://www.dropbox.com/s/v14nl9kcgqoqn36/house_prices.csv?dl=0\n",
            "Resolving www.dropbox.com (www.dropbox.com)... 162.125.9.1, 2620:100:601f:1::a27d:901\n",
            "Connecting to www.dropbox.com (www.dropbox.com)|162.125.9.1|:443... connected.\n",
            "HTTP request sent, awaiting response... 301 Moved Permanently\n",
            "Location: /s/raw/v14nl9kcgqoqn36/house_prices.csv [following]\n",
            "--2020-11-15 14:26:40--  https://www.dropbox.com/s/raw/v14nl9kcgqoqn36/house_prices.csv\n",
            "Reusing existing connection to www.dropbox.com:443.\n",
            "HTTP request sent, awaiting response... 302 Found\n",
            "Location: https://uc88ffbd045bbbca3ec2a000d78a.dl.dropboxusercontent.com/cd/0/inline/BDMvHX_EhnhWHCVSmyYu9CdGMZT3WPIU_3UNT0Bay46m5FsFXb6NP-ncr8lIOLrlks7kNPQqwHXEDspnSfHlfbJ8Hb94_n5iHfkT__R94jXGKwGBfsjeV-ojf7Jz9mhFSQA/file# [following]\n",
            "--2020-11-15 14:26:40--  https://uc88ffbd045bbbca3ec2a000d78a.dl.dropboxusercontent.com/cd/0/inline/BDMvHX_EhnhWHCVSmyYu9CdGMZT3WPIU_3UNT0Bay46m5FsFXb6NP-ncr8lIOLrlks7kNPQqwHXEDspnSfHlfbJ8Hb94_n5iHfkT__R94jXGKwGBfsjeV-ojf7Jz9mhFSQA/file\n",
            "Resolving uc88ffbd045bbbca3ec2a000d78a.dl.dropboxusercontent.com (uc88ffbd045bbbca3ec2a000d78a.dl.dropboxusercontent.com)... 162.125.5.15, 2620:100:601d:15::a27d:50f\n",
            "Connecting to uc88ffbd045bbbca3ec2a000d78a.dl.dropboxusercontent.com (uc88ffbd045bbbca3ec2a000d78a.dl.dropboxusercontent.com)|162.125.5.15|:443... connected.\n",
            "HTTP request sent, awaiting response... 200 OK\n",
            "Length: 8666 (8.5K) [text/plain]\n",
            "Saving to: ‘house_prices.csv’\n",
            "\n",
            "house_prices.csv    100%[===================>]   8.46K  --.-KB/s    in 0s      \n",
            "\n",
            "2020-11-15 14:26:40 (133 MB/s) - ‘house_prices.csv’ saved [8666/8666]\n",
            "\n"
          ],
          "name": "stdout"
        }
      ]
    },
    {
      "cell_type": "markdown",
      "metadata": {
        "id": "bCQ9CZy_IHar"
      },
      "source": [
        "Load the data."
      ]
    },
    {
      "cell_type": "code",
      "metadata": {
        "id": "zFyLzLZKH-49",
        "outputId": "4b2219cf-ac8c-41c7-8bf3-af4ac4794dec",
        "colab": {
          "base_uri": "https://localhost:8080/",
          "height": 158
        }
      },
      "source": [
        "prices_data = pd.read_csv(\"house_prices.csv\")\n",
        "prices_data = prices_data.drop(\"house_type\", axis = 1)\n",
        "\n",
        "print(\"The first three rows of the data are:\")\n",
        "prices_data.head(3)"
      ],
      "execution_count": 3,
      "outputs": [
        {
          "output_type": "stream",
          "text": [
            "The first three rows of the data are:\n"
          ],
          "name": "stdout"
        },
        {
          "output_type": "execute_result",
          "data": {
            "text/html": [
              "<div>\n",
              "<style scoped>\n",
              "    .dataframe tbody tr th:only-of-type {\n",
              "        vertical-align: middle;\n",
              "    }\n",
              "\n",
              "    .dataframe tbody tr th {\n",
              "        vertical-align: top;\n",
              "    }\n",
              "\n",
              "    .dataframe thead th {\n",
              "        text-align: right;\n",
              "    }\n",
              "</style>\n",
              "<table border=\"1\" class=\"dataframe\">\n",
              "  <thead>\n",
              "    <tr style=\"text-align: right;\">\n",
              "      <th></th>\n",
              "      <th>sqft</th>\n",
              "      <th>age</th>\n",
              "      <th>price</th>\n",
              "    </tr>\n",
              "  </thead>\n",
              "  <tbody>\n",
              "    <tr>\n",
              "      <th>0</th>\n",
              "      <td>1380.0</td>\n",
              "      <td>1.873884</td>\n",
              "      <td>231430.0</td>\n",
              "    </tr>\n",
              "    <tr>\n",
              "      <th>1</th>\n",
              "      <td>2137.0</td>\n",
              "      <td>0.655100</td>\n",
              "      <td>276776.0</td>\n",
              "    </tr>\n",
              "    <tr>\n",
              "      <th>2</th>\n",
              "      <td>1639.0</td>\n",
              "      <td>22.591568</td>\n",
              "      <td>199513.0</td>\n",
              "    </tr>\n",
              "  </tbody>\n",
              "</table>\n",
              "</div>"
            ],
            "text/plain": [
              "     sqft        age     price\n",
              "0  1380.0   1.873884  231430.0\n",
              "1  2137.0   0.655100  276776.0\n",
              "2  1639.0  22.591568  199513.0"
            ]
          },
          "metadata": {
            "tags": []
          },
          "execution_count": 3
        }
      ]
    },
    {
      "cell_type": "markdown",
      "metadata": {
        "id": "hOyv6xNpImpY"
      },
      "source": [
        "Add a number of additional features to the dataset."
      ]
    },
    {
      "cell_type": "code",
      "metadata": {
        "id": "5ojER3pnI2KI",
        "outputId": "726f4aa1-9502-4612-f1a4-c2f51714c108",
        "colab": {
          "base_uri": "https://localhost:8080/",
          "height": 158
        }
      },
      "source": [
        "prices_data = prices_data.assign(\n",
        "    age_sqr = prices_data.age**2,\n",
        "    age_cub = prices_data.age**3,\n",
        "    age_log = np.log(prices_data.age),\n",
        "    age_sqrt = np.sqrt(prices_data.age),\n",
        "    sqft_sqr = prices_data.sqft**2,\n",
        "    sqft_cub = prices_data.sqft**3,\n",
        "    sqft_log = np.log(prices_data.sqft),\n",
        "    sqft_sqrt = np.sqrt(prices_data.sqft),    \n",
        "    sqft_x_age = prices_data.sqft * prices_data.age\n",
        ")\n",
        "\n",
        "print(\"The first three rows of the updated dataset are:\")\n",
        "prices_data.head(3)"
      ],
      "execution_count": 4,
      "outputs": [
        {
          "output_type": "stream",
          "text": [
            "The first three rows of the updated dataset are:\n"
          ],
          "name": "stdout"
        },
        {
          "output_type": "execute_result",
          "data": {
            "text/html": [
              "<div>\n",
              "<style scoped>\n",
              "    .dataframe tbody tr th:only-of-type {\n",
              "        vertical-align: middle;\n",
              "    }\n",
              "\n",
              "    .dataframe tbody tr th {\n",
              "        vertical-align: top;\n",
              "    }\n",
              "\n",
              "    .dataframe thead th {\n",
              "        text-align: right;\n",
              "    }\n",
              "</style>\n",
              "<table border=\"1\" class=\"dataframe\">\n",
              "  <thead>\n",
              "    <tr style=\"text-align: right;\">\n",
              "      <th></th>\n",
              "      <th>sqft</th>\n",
              "      <th>age</th>\n",
              "      <th>price</th>\n",
              "      <th>age_sqr</th>\n",
              "      <th>age_cub</th>\n",
              "      <th>age_log</th>\n",
              "      <th>age_sqrt</th>\n",
              "      <th>sqft_sqr</th>\n",
              "      <th>sqft_cub</th>\n",
              "      <th>sqft_log</th>\n",
              "      <th>sqft_sqrt</th>\n",
              "      <th>sqft_x_age</th>\n",
              "    </tr>\n",
              "  </thead>\n",
              "  <tbody>\n",
              "    <tr>\n",
              "      <th>0</th>\n",
              "      <td>1380.0</td>\n",
              "      <td>1.873884</td>\n",
              "      <td>231430.0</td>\n",
              "      <td>3.511440</td>\n",
              "      <td>6.580029</td>\n",
              "      <td>0.628013</td>\n",
              "      <td>1.368899</td>\n",
              "      <td>1904400.0</td>\n",
              "      <td>2.628072e+09</td>\n",
              "      <td>7.229839</td>\n",
              "      <td>37.148351</td>\n",
              "      <td>2585.959380</td>\n",
              "    </tr>\n",
              "    <tr>\n",
              "      <th>1</th>\n",
              "      <td>2137.0</td>\n",
              "      <td>0.655100</td>\n",
              "      <td>276776.0</td>\n",
              "      <td>0.429156</td>\n",
              "      <td>0.281140</td>\n",
              "      <td>-0.422967</td>\n",
              "      <td>0.809383</td>\n",
              "      <td>4566769.0</td>\n",
              "      <td>9.759185e+09</td>\n",
              "      <td>7.667158</td>\n",
              "      <td>46.227697</td>\n",
              "      <td>1399.949311</td>\n",
              "    </tr>\n",
              "    <tr>\n",
              "      <th>2</th>\n",
              "      <td>1639.0</td>\n",
              "      <td>22.591568</td>\n",
              "      <td>199513.0</td>\n",
              "      <td>510.378927</td>\n",
              "      <td>11530.260041</td>\n",
              "      <td>3.117577</td>\n",
              "      <td>4.753059</td>\n",
              "      <td>2686321.0</td>\n",
              "      <td>4.402880e+09</td>\n",
              "      <td>7.401842</td>\n",
              "      <td>40.484565</td>\n",
              "      <td>37027.579316</td>\n",
              "    </tr>\n",
              "  </tbody>\n",
              "</table>\n",
              "</div>"
            ],
            "text/plain": [
              "     sqft        age     price  ...  sqft_log  sqft_sqrt    sqft_x_age\n",
              "0  1380.0   1.873884  231430.0  ...  7.229839  37.148351   2585.959380\n",
              "1  2137.0   0.655100  276776.0  ...  7.667158  46.227697   1399.949311\n",
              "2  1639.0  22.591568  199513.0  ...  7.401842  40.484565  37027.579316\n",
              "\n",
              "[3 rows x 12 columns]"
            ]
          },
          "metadata": {
            "tags": []
          },
          "execution_count": 4
        }
      ]
    },
    {
      "cell_type": "markdown",
      "metadata": {
        "id": "GxG3BKleJr3t"
      },
      "source": [
        "Separate features and labels into two different variables."
      ]
    },
    {
      "cell_type": "code",
      "metadata": {
        "id": "EJnQwd5YILLU"
      },
      "source": [
        "X = prices_data.drop(\"price\", axis=1)\n",
        "y = prices_data.price"
      ],
      "execution_count": 5,
      "outputs": []
    },
    {
      "cell_type": "markdown",
      "metadata": {
        "id": "D3v3LhCWKdIN"
      },
      "source": [
        "Divide the data into train/test datasets using a 70/30 split."
      ]
    },
    {
      "cell_type": "code",
      "metadata": {
        "id": "TtR1dEJtKb3D",
        "outputId": "46ae59ec-6332-44e6-ab4f-987ddfda87f6",
        "colab": {
          "base_uri": "https://localhost:8080/"
        }
      },
      "source": [
        "from sklearn.model_selection import train_test_split\n",
        "\n",
        "# TODO: Assign the right values to X_train, X_test, y_train and y_test\n",
        "X_train, X_test, y_train, y_test = train_test_split(\n",
        "    X,\n",
        "    y,\n",
        "    test_size=0.3,\n",
        "    shuffle=True,\n",
        "    random_state=0\n",
        ")\n",
        "# END OF TODO\n",
        "\n",
        "print(\"shape of X_train is: \", X_train.shape)\n",
        "print(\"shape of X_test is: \", X_test.shape)"
      ],
      "execution_count": 6,
      "outputs": [
        {
          "output_type": "stream",
          "text": [
            "shape of X_train is:  (140, 11)\n",
            "shape of X_test is:  (60, 11)\n"
          ],
          "name": "stdout"
        }
      ]
    },
    {
      "cell_type": "markdown",
      "metadata": {
        "id": "8gboLlvfMd9D"
      },
      "source": [
        "##Linear Regression for Prediction"
      ]
    },
    {
      "cell_type": "markdown",
      "metadata": {
        "id": "I7NfOgKhMa8S"
      },
      "source": [
        "Fit a linear regression model to the train data, and compute the RMSE of the fitted model in the training data and the test data."
      ]
    },
    {
      "cell_type": "code",
      "metadata": {
        "id": "r6Wb8Wz8K6V3",
        "outputId": "618de033-f8e6-43f3-9483-1a21801412b9",
        "colab": {
          "base_uri": "https://localhost:8080/"
        }
      },
      "source": [
        "from sklearn.linear_model import LinearRegression\n",
        "from sklearn.metrics import mean_squared_error\n",
        "\n",
        "# TODO: Compute rmse_train and rmse_test\n",
        "# Fit a linear regression model to the data\n",
        "model = LinearRegression()\n",
        "model.fit(X_train, y_train)\n",
        "\n",
        "# Find the predicted values for the train set and the test set\n",
        "y_pred_train = model.predict(X_train)\n",
        "y_pred_test = model.predict(X_test)\n",
        "rmse_train = mean_squared_error(y_train, y_pred_train, squared=False)\n",
        "rmse_test = mean_squared_error(y_test, y_pred_test, squared=False)\n",
        "# END OF TODO\n",
        "\n",
        "print(\"Train RMSE of the linear regression model is: \", rmse_train)\n",
        "print(\"Test RMSE of the linear regression model is: \", rmse_test)"
      ],
      "execution_count": 7,
      "outputs": [
        {
          "output_type": "stream",
          "text": [
            "Train RMSE of the linear regression model is:  48371.83358226316\n",
            "Test RMSE of the linear regression model is:  72942.53316921077\n"
          ],
          "name": "stdout"
        }
      ]
    },
    {
      "cell_type": "markdown",
      "metadata": {
        "id": "eP_dEicwOWE9"
      },
      "source": [
        "Based on the train and test RMSE's, do you see any overfitting in the model?\n",
        "\n",
        "_Answer_: Yes, based on the difference between the train and test RMSE values, we can conclude that the model is overfitted and as such it does not generalize well."
      ]
    },
    {
      "cell_type": "markdown",
      "metadata": {
        "id": "KsQt_wIkNgkW"
      },
      "source": [
        "##$k$-Nearest Neighbors"
      ]
    },
    {
      "cell_type": "markdown",
      "metadata": {
        "id": "_Htg7hv9NpXj"
      },
      "source": [
        "Fit a KNN model to the train data, and compute the RMSE of the fitted model in the training data and the test data. Use $k = 5$."
      ]
    },
    {
      "cell_type": "code",
      "metadata": {
        "id": "T336KfJRLusr",
        "outputId": "49916bca-c388-4a81-b0ec-112580a3a4e6",
        "colab": {
          "base_uri": "https://localhost:8080/"
        }
      },
      "source": [
        "from sklearn.neighbors import KNeighborsRegressor\n",
        "\n",
        "# Fit the model\n",
        "model = KNeighborsRegressor(n_neighbors=5)\n",
        "model.fit(X_train, y_train)\n",
        "\n",
        "# Find the predicted values for the train and test sets\n",
        "y_pred_train = model.predict(X_train)\n",
        "y_pred_test = model.predict(X_test)\n",
        "\n",
        "# TODO: Compute rmse_train and rmse_test\n",
        "rmse_train = mean_squared_error(y_train, y_pred_train, squared=False)\n",
        "rmse_test = mean_squared_error(y_test, y_pred_test, squared=False)\n",
        "# END OF TODO\n",
        "\n",
        "print(\"Train RMSE of the KNN model is: \", rmse_train)\n",
        "print(\"Test RMSE of the KNN regression model is: \", rmse_test)"
      ],
      "execution_count": 8,
      "outputs": [
        {
          "output_type": "stream",
          "text": [
            "Train RMSE of the KNN model is:  49904.32879909604\n",
            "Test RMSE of the KNN regression model is:  62569.93190304216\n"
          ],
          "name": "stdout"
        }
      ]
    },
    {
      "cell_type": "markdown",
      "metadata": {
        "id": "Dm3ZwuRTOcVV"
      },
      "source": [
        "Based on train and test RMSE's, do you see any overffiting in the model?\n",
        "\n",
        "_Answer_: Yes, because the RMSE of the test data is still higher than the RMSE from the test data by a non-negligible margin. \n",
        "\n",
        "Between this model and the linear regression model in the previous part, which one do you choose for predicting house prices?\n",
        "\n",
        "_Answer_: I choose the KNN model because even though it has a higher RMSE for the train data, it generalizes better based on the RMSE from the test data."
      ]
    },
    {
      "cell_type": "markdown",
      "metadata": {
        "id": "zBM76x4bRoBW"
      },
      "source": [
        "##Regularization"
      ]
    },
    {
      "cell_type": "markdown",
      "metadata": {
        "id": "8apIagh2R9a8"
      },
      "source": [
        "As we said in the lecture, regularization is one of the methods we can use to alleviate overfitting in our model.\n",
        "Let's apply regularization to our linear regression model. For this part, we are going to use the L-2 regularized linear regression.\n",
        "\n",
        "Note: Before applying regularization, we need to normalize the features in our data. As we said in the lecture, L-2 regularization introduces a new term into our objective function, $\\lambda \\sum \\beta_i^2$. If one of the coefficients, $\\beta_j$, is much larger compared to the other coefficients then the regularization term is primarily dominated by the value of that coefficient. Normalizing features helps us to avoid problems like that. We can achieve that by using `normalize=True` as the parameter in `Ridge`.\n",
        "\n",
        "For different values of the regularization hyperparameter, fit a ridge regression to the train data, and compute the RMSE of the fitted model in the training data and the test data."
      ]
    },
    {
      "cell_type": "code",
      "metadata": {
        "id": "mU4kKE2pR8Vw"
      },
      "source": [
        "from sklearn.linear_model import Ridge\n",
        "\n",
        "rmses_train = []\n",
        "rmses_test = []\n",
        "lambdas = np.logspace(-4, 3, 100)\n",
        "\n",
        "for l in lambdas:\n",
        "  # TODO: Compute rmse_train and rmse_test for ridge regression\n",
        "  #       Use l as the regularization parameter\n",
        "  model = Ridge(alpha=l, normalize=True)\n",
        "  model.fit(X_train, y_train)\n",
        "  rmse_train = mean_squared_error(y_train, model.predict(X_train), squared=False)\n",
        "  rmse_test = mean_squared_error(y_test, model.predict(X_test), squared=False)\n",
        "  # END OF TODO\n",
        "\n",
        "  rmses_train.append(rmse_train)\n",
        "  rmses_test.append(rmse_test)"
      ],
      "execution_count": 9,
      "outputs": []
    },
    {
      "cell_type": "markdown",
      "metadata": {
        "id": "c88uAmcrWMcb"
      },
      "source": [
        "Draw the train and test RMSE for different values of the regularization hyperparameter."
      ]
    },
    {
      "cell_type": "code",
      "metadata": {
        "id": "ufUsntTuZKqY",
        "outputId": "072ae238-3114-4655-8b74-29b4234aa94a",
        "colab": {
          "base_uri": "https://localhost:8080/",
          "height": 299
        }
      },
      "source": [
        "plt.figure(figsize=(18, 4))\n",
        "\n",
        "plt.subplot(121)\n",
        "ax = plt.gca()\n",
        "ax.plot(lambdas, rmses_train)\n",
        "ax.set_xscale(\"log\")\n",
        "plt.xlabel(\"lambda\")\n",
        "plt.ylabel(\"RMSE\")\n",
        "plt.title(\"Training set\")\n",
        "plt.axis(\"tight\")\n",
        "\n",
        "plt.subplot(122)\n",
        "ax = plt.gca()\n",
        "ax.plot(lambdas, rmses_test)\n",
        "ax.set_xscale(\"log\")\n",
        "plt.xlabel(\"lambda\")\n",
        "plt.ylabel(\"RMSE\")\n",
        "plt.title(\"Test set\")\n",
        "plt.axis(\"tight\")\n",
        "\n",
        "plt.show()"
      ],
      "execution_count": 10,
      "outputs": [
        {
          "output_type": "display_data",
          "data": {
            "image/png": "[encoded data removed]",
            "text/plain": [
              "<Figure size 1296x288 with 2 Axes>"
            ]
          },
          "metadata": {
            "tags": [],
            "needs_background": "light"
          }
        }
      ]
    },
    {
      "cell_type": "markdown",
      "metadata": {
        "id": "-gDAiesvVzfM"
      },
      "source": [
        "- How does the test RMSE of the best ridge regression model compares to the linear regression model? What about the KNN model?\n",
        "- Did regularization help with overfitting in the linear regression model?\n",
        "- Based on error in train and test sets, does the best ridge regression model show any overfitting?\n",
        "- Is the error of the best ridge regression model a good estimate for its generalization error?"
      ]
    },
    {
      "cell_type": "code",
      "metadata": {
        "id": "B8ZLy5RTZi74",
        "outputId": "a82bf2de-b2b5-474f-c11a-ca5b6c94b397",
        "colab": {
          "base_uri": "https://localhost:8080/"
        }
      },
      "source": [
        "# Find the test RMSE for the best Ridge regression model\n",
        "min_rmse_test_ridge = np.min(rmses_test)\n",
        "index_min_rsme_test_ridge = np.argmin(rmses_test)\n",
        "best_lambda_test_ridge = lambdas[index_min_rsme_test_ridge]\n",
        "print(f\"Test RMSE for best Ridge regression model: {min_rmse_test_ridge}\")\n",
        "print(f\"Lambda for best Ridge regression model: {best_lambda_test_ridge}\")"
      ],
      "execution_count": 11,
      "outputs": [
        {
          "output_type": "stream",
          "text": [
            "Test RMSE for best Ridge regression model: 63251.23444244322\n",
            "Lambda for best Ridge regression model: 0.10974987654930557\n"
          ],
          "name": "stdout"
        }
      ]
    },
    {
      "cell_type": "code",
      "metadata": {
        "id": "vk9UYVwVdM9e",
        "outputId": "4cad7285-080c-4939-8c44-2dc8d8c140e8",
        "colab": {
          "base_uri": "https://localhost:8080/"
        }
      },
      "source": [
        "# Find the train RMSE for the best Ridge regression model\n",
        "print(f\"Train RMSE for best Ridge regression model: {rmses_train[index_min_rsme_test_ridge]}\")"
      ],
      "execution_count": 12,
      "outputs": [
        {
          "output_type": "stream",
          "text": [
            "Train RMSE for best Ridge regression model: 49448.3515048999\n"
          ],
          "name": "stdout"
        }
      ]
    },
    {
      "cell_type": "markdown",
      "metadata": {
        "id": "AlQCScBVb57r"
      },
      "source": [
        "#### Answers\n",
        "\n",
        "*   Based the RMSE, the best ridge regression model performed better on the test set that the linear regression model without regularization, but not better than the KNN model\n",
        "*   Regularization did help with overfitting in the linear regression model, as it decreased the RMSE on the test set\n",
        "*   Based on the fact that the test error is still considerably higher than the train error, we can conclude that the model is still overfitting the data, although to a lesser extent than without regularization\n",
        "*   No, it's not. The estimated error is typically biased downward, therefore it underestimates the generalization error of the chosen model.\n",
        "\n"
      ]
    }
  ]
}
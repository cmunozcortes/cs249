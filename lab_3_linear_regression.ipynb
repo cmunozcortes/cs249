{
  "nbformat": 4,
  "nbformat_minor": 0,
  "metadata": {
    "colab": {
      "name": "lab-3-linear-regression.ipynb",
      "provenance": [],
      "collapsed_sections": [],
      "include_colab_link": true
    },
    "kernelspec": {
      "name": "python3",
      "display_name": "Python 3"
    }
  },
  "cells": [
    {
      "cell_type": "markdown",
      "metadata": {
        "id": "view-in-github",
        "colab_type": "text"
      },
      "source": [
        "<a href=\"https://colab.research.google.com/github/cmunozcortes/cs249/blob/main/lab_3_linear_regression.ipynb\" target=\"_parent\"><img src=\"https://colab.research.google.com/assets/colab-badge.svg\" alt=\"Open In Colab\"/></a>"
      ]
    },
    {
      "cell_type": "markdown",
      "metadata": {
        "id": "kWWGCaT-MEy3"
      },
      "source": [
        "**Due Date: Monday, November 2nd, 11:59pm**\n",
        "\n",
        "- Save a copy of the notebook to your Google Drive. You can do that by going to the menu and clicking `File` > `Save` > `SAVE A COPY IN DRIVE`.\n",
        "- Fill out the missing parts and run the code modules.\n",
        "- Answer the questions (if any) in a separate document or by adding a new `Text` block inside the Colab.\n",
        "- Download the solved notebook by going to the menu and clicking `File` > `Download .ipynb`.\n",
        "- Make sure the downloaded version is showing your solutions.\n",
        "- Upload your solutions to CCLE (under \"Colab Assignment #3: Hypothesis Testing\" for Week 4)."
      ]
    },
    {
      "cell_type": "code",
      "metadata": {
        "id": "GuWlwBaz_gV7",
        "outputId": "6d0b36d7-7ac8-4df9-868c-c11b5bf66aa3",
        "colab": {
          "base_uri": "https://localhost:8080/"
        }
      },
      "source": [
        "import numpy as np\n",
        "import pandas as pd\n",
        "import statsmodels.api as sm\n",
        "from sklearn.linear_model import LinearRegression\n",
        "\n",
        "np.random.seed(0)"
      ],
      "execution_count": null,
      "outputs": [
        {
          "output_type": "stream",
          "text": [
            "/usr/local/lib/python3.6/dist-packages/statsmodels/tools/_testing.py:19: FutureWarning: pandas.util.testing is deprecated. Use the functions in the public API at pandas.testing instead.\n",
            "  import pandas.util.testing as tm\n"
          ],
          "name": "stderr"
        }
      ]
    },
    {
      "cell_type": "markdown",
      "metadata": {
        "id": "nEPemaOtB2qe"
      },
      "source": [
        "Download the data for house prices."
      ]
    },
    {
      "cell_type": "code",
      "metadata": {
        "id": "zpO-CSVv_-yc",
        "outputId": "fef530b9-5502-4cee-fe26-fc6d49c4f3e1",
        "colab": {
          "base_uri": "https://localhost:8080/"
        }
      },
      "source": [
        "!wget -O house_prices.csv https://www.dropbox.com/s/v14nl9kcgqoqn36/house_prices.csv?dl=0"
      ],
      "execution_count": null,
      "outputs": [
        {
          "output_type": "stream",
          "text": [
            "--2020-10-30 00:15:17--  https://www.dropbox.com/s/v14nl9kcgqoqn36/house_prices.csv?dl=0\n",
            "Resolving www.dropbox.com (www.dropbox.com)... 162.125.9.1, 2620:100:601f:1::a27d:901\n",
            "Connecting to www.dropbox.com (www.dropbox.com)|162.125.9.1|:443... connected.\n",
            "HTTP request sent, awaiting response... 301 Moved Permanently\n",
            "Location: /s/raw/v14nl9kcgqoqn36/house_prices.csv [following]\n",
            "--2020-10-30 00:15:17--  https://www.dropbox.com/s/raw/v14nl9kcgqoqn36/house_prices.csv\n",
            "Reusing existing connection to www.dropbox.com:443.\n",
            "HTTP request sent, awaiting response... 302 Found\n",
            "Location: https://ucd526b8dd4abae131d790b3f78d.dl.dropboxusercontent.com/cd/0/inline/BCMjWoiMjMquM9b6wS-_-kae-qAF3rl8h9fsFGeEvLFQgNKOCipL1IB_0HM7F40q4Pdwx1X_y7kC69ldv2aQb_4KHP1cmzsDv2DgqR84E-tsk4CvpUSZNwNgJ7N2gZhoQ5E/file# [following]\n",
            "--2020-10-30 00:15:18--  https://ucd526b8dd4abae131d790b3f78d.dl.dropboxusercontent.com/cd/0/inline/BCMjWoiMjMquM9b6wS-_-kae-qAF3rl8h9fsFGeEvLFQgNKOCipL1IB_0HM7F40q4Pdwx1X_y7kC69ldv2aQb_4KHP1cmzsDv2DgqR84E-tsk4CvpUSZNwNgJ7N2gZhoQ5E/file\n",
            "Resolving ucd526b8dd4abae131d790b3f78d.dl.dropboxusercontent.com (ucd526b8dd4abae131d790b3f78d.dl.dropboxusercontent.com)... 162.125.5.15, 2620:100:601f:15::a27d:90f\n",
            "Connecting to ucd526b8dd4abae131d790b3f78d.dl.dropboxusercontent.com (ucd526b8dd4abae131d790b3f78d.dl.dropboxusercontent.com)|162.125.5.15|:443... connected.\n",
            "HTTP request sent, awaiting response... 200 OK\n",
            "Length: 8666 (8.5K) [text/plain]\n",
            "Saving to: ‘house_prices.csv’\n",
            "\n",
            "house_prices.csv    100%[===================>]   8.46K  --.-KB/s    in 0s      \n",
            "\n",
            "2020-10-30 00:15:18 (120 MB/s) - ‘house_prices.csv’ saved [8666/8666]\n",
            "\n"
          ],
          "name": "stdout"
        }
      ]
    },
    {
      "cell_type": "markdown",
      "metadata": {
        "id": "LNZFSWkmCCGy"
      },
      "source": [
        "Load house prices data into a Pandas data frame."
      ]
    },
    {
      "cell_type": "code",
      "metadata": {
        "id": "BfgmiA-iB0ni",
        "outputId": "7fb70c88-0592-4717-b03d-bdf84c21bf7f",
        "colab": {
          "base_uri": "https://localhost:8080/",
          "height": 159
        }
      },
      "source": [
        "prices_data = pd.read_csv(\"house_prices.csv\")\n",
        "\n",
        "print(\"The first three rows of the data are:\")\n",
        "prices_data.head(3)"
      ],
      "execution_count": null,
      "outputs": [
        {
          "output_type": "stream",
          "text": [
            "The first three rows of the data are:\n"
          ],
          "name": "stdout"
        },
        {
          "output_type": "execute_result",
          "data": {
            "text/html": [
              "<div>\n",
              "<style scoped>\n",
              "    .dataframe tbody tr th:only-of-type {\n",
              "        vertical-align: middle;\n",
              "    }\n",
              "\n",
              "    .dataframe tbody tr th {\n",
              "        vertical-align: top;\n",
              "    }\n",
              "\n",
              "    .dataframe thead th {\n",
              "        text-align: right;\n",
              "    }\n",
              "</style>\n",
              "<table border=\"1\" class=\"dataframe\">\n",
              "  <thead>\n",
              "    <tr style=\"text-align: right;\">\n",
              "      <th></th>\n",
              "      <th>house_type</th>\n",
              "      <th>sqft</th>\n",
              "      <th>age</th>\n",
              "      <th>price</th>\n",
              "    </tr>\n",
              "  </thead>\n",
              "  <tbody>\n",
              "    <tr>\n",
              "      <th>0</th>\n",
              "      <td>condominium</td>\n",
              "      <td>1380.0</td>\n",
              "      <td>1.873884</td>\n",
              "      <td>231430.0</td>\n",
              "    </tr>\n",
              "    <tr>\n",
              "      <th>1</th>\n",
              "      <td>townhouse</td>\n",
              "      <td>2137.0</td>\n",
              "      <td>0.655100</td>\n",
              "      <td>276776.0</td>\n",
              "    </tr>\n",
              "    <tr>\n",
              "      <th>2</th>\n",
              "      <td>condominium</td>\n",
              "      <td>1639.0</td>\n",
              "      <td>22.591568</td>\n",
              "      <td>199513.0</td>\n",
              "    </tr>\n",
              "  </tbody>\n",
              "</table>\n",
              "</div>"
            ],
            "text/plain": [
              "    house_type    sqft        age     price\n",
              "0  condominium  1380.0   1.873884  231430.0\n",
              "1    townhouse  2137.0   0.655100  276776.0\n",
              "2  condominium  1639.0  22.591568  199513.0"
            ]
          },
          "metadata": {
            "tags": []
          },
          "execution_count": 3
        }
      ]
    },
    {
      "cell_type": "markdown",
      "metadata": {
        "id": "ZB0WC_LTOqNM"
      },
      "source": [
        "Print summary statistics for the data."
      ]
    },
    {
      "cell_type": "code",
      "metadata": {
        "id": "XIwW_yFeOtpo",
        "outputId": "f94c5181-cccd-4754-a574-b9ad75cd693c",
        "colab": {
          "base_uri": "https://localhost:8080/",
          "height": 297
        }
      },
      "source": [
        "prices_data.describe()"
      ],
      "execution_count": null,
      "outputs": [
        {
          "output_type": "execute_result",
          "data": {
            "text/html": [
              "<div>\n",
              "<style scoped>\n",
              "    .dataframe tbody tr th:only-of-type {\n",
              "        vertical-align: middle;\n",
              "    }\n",
              "\n",
              "    .dataframe tbody tr th {\n",
              "        vertical-align: top;\n",
              "    }\n",
              "\n",
              "    .dataframe thead th {\n",
              "        text-align: right;\n",
              "    }\n",
              "</style>\n",
              "<table border=\"1\" class=\"dataframe\">\n",
              "  <thead>\n",
              "    <tr style=\"text-align: right;\">\n",
              "      <th></th>\n",
              "      <th>sqft</th>\n",
              "      <th>age</th>\n",
              "      <th>price</th>\n",
              "    </tr>\n",
              "  </thead>\n",
              "  <tbody>\n",
              "    <tr>\n",
              "      <th>count</th>\n",
              "      <td>200.000000</td>\n",
              "      <td>200.000000</td>\n",
              "      <td>200.000000</td>\n",
              "    </tr>\n",
              "    <tr>\n",
              "      <th>mean</th>\n",
              "      <td>1721.690000</td>\n",
              "      <td>42.100913</td>\n",
              "      <td>254548.075000</td>\n",
              "    </tr>\n",
              "    <tr>\n",
              "      <th>std</th>\n",
              "      <td>423.824539</td>\n",
              "      <td>35.277504</td>\n",
              "      <td>62757.260134</td>\n",
              "    </tr>\n",
              "    <tr>\n",
              "      <th>min</th>\n",
              "      <td>767.000000</td>\n",
              "      <td>0.270202</td>\n",
              "      <td>110380.000000</td>\n",
              "    </tr>\n",
              "    <tr>\n",
              "      <th>25%</th>\n",
              "      <td>1443.750000</td>\n",
              "      <td>16.022210</td>\n",
              "      <td>212453.750000</td>\n",
              "    </tr>\n",
              "    <tr>\n",
              "      <th>50%</th>\n",
              "      <td>1678.500000</td>\n",
              "      <td>34.432747</td>\n",
              "      <td>249524.500000</td>\n",
              "    </tr>\n",
              "    <tr>\n",
              "      <th>75%</th>\n",
              "      <td>2021.750000</td>\n",
              "      <td>59.732957</td>\n",
              "      <td>289058.750000</td>\n",
              "    </tr>\n",
              "    <tr>\n",
              "      <th>max</th>\n",
              "      <td>2927.000000</td>\n",
              "      <td>148.107500</td>\n",
              "      <td>472792.000000</td>\n",
              "    </tr>\n",
              "  </tbody>\n",
              "</table>\n",
              "</div>"
            ],
            "text/plain": [
              "              sqft         age          price\n",
              "count   200.000000  200.000000     200.000000\n",
              "mean   1721.690000   42.100913  254548.075000\n",
              "std     423.824539   35.277504   62757.260134\n",
              "min     767.000000    0.270202  110380.000000\n",
              "25%    1443.750000   16.022210  212453.750000\n",
              "50%    1678.500000   34.432747  249524.500000\n",
              "75%    2021.750000   59.732957  289058.750000\n",
              "max    2927.000000  148.107500  472792.000000"
            ]
          },
          "metadata": {
            "tags": []
          },
          "execution_count": 4
        }
      ]
    },
    {
      "cell_type": "markdown",
      "metadata": {
        "id": "2nxtbSfbMDsO"
      },
      "source": [
        "##Simple Linear Regression"
      ]
    },
    {
      "cell_type": "markdown",
      "metadata": {
        "id": "q9f94JhzMQmS"
      },
      "source": [
        "Using linear regression study the relationship between the square footage of houses in our data and their average price. \n",
        "\n",
        "1.   Use `LinearRegression` method in `scikit-learn` to fit a linear regression"
      ]
    },
    {
      "cell_type": "code",
      "metadata": {
        "id": "vYLuPa_-MHZC",
        "outputId": "b964f8a4-c8bc-42bd-e2df-4dc6ed8b29e1",
        "colab": {
          "base_uri": "https://localhost:8080/"
        }
      },
      "source": [
        "x = prices_data[['sqft']]\n",
        "y = prices_data.price\n",
        "\n",
        "# TODO: Fit a linear regression to x and y\n",
        "model = LinearRegression()\n",
        "model.fit(x,y)\n",
        "# END OF TODO"
      ],
      "execution_count": null,
      "outputs": [
        {
          "output_type": "execute_result",
          "data": {
            "text/plain": [
              "LinearRegression(copy_X=True, fit_intercept=True, n_jobs=None, normalize=False)"
            ]
          },
          "metadata": {
            "tags": []
          },
          "execution_count": 5
        }
      ]
    },
    {
      "cell_type": "markdown",
      "metadata": {
        "id": "1pP_e4vGOOYv"
      },
      "source": [
        "2. Gather the estimated coefficients from the model."
      ]
    },
    {
      "cell_type": "code",
      "metadata": {
        "id": "PTJHXCiCOTqw",
        "outputId": "6296038f-5121-459f-eecc-609d5bd37c04",
        "colab": {
          "base_uri": "https://localhost:8080/"
        }
      },
      "source": [
        "# TODO: Assign correct values to intercept and sqft_est_coef\n",
        "intercept = model.intercept_\n",
        "sqft_est_coef = model.coef_[0]\n",
        "# END OF TODO\n",
        "\n",
        "print(\"intercept of the model is: \", intercept)\n",
        "print(\"coefficient of square footage is: \", sqft_est_coef)"
      ],
      "execution_count": null,
      "outputs": [
        {
          "output_type": "stream",
          "text": [
            "intercept of the model is:  146762.72091842652\n",
            "coefficient of square footage is:  62.60439108177052\n"
          ],
          "name": "stdout"
        }
      ]
    },
    {
      "cell_type": "markdown",
      "metadata": {
        "id": "FCK4JrSnNJIr"
      },
      "source": [
        "3. How can we interpret the coeffient of the square footage?"
      ]
    },
    {
      "cell_type": "markdown",
      "metadata": {
        "id": "UBsnO9zIL8X-"
      },
      "source": [
        "_Answer_: A 1-unit increase in the square footage is associated with a ~$63 increase in the average price of a house in the housing market covered by the data."
      ]
    },
    {
      "cell_type": "markdown",
      "metadata": {
        "id": "zcmYkj0hQEIr"
      },
      "source": [
        "4. Compute the residual sum of squares from the model."
      ]
    },
    {
      "cell_type": "code",
      "metadata": {
        "id": "x6dCtEfQN4X5",
        "outputId": "546689d4-612e-4e2c-ea54-9986baab7812",
        "colab": {
          "base_uri": "https://localhost:8080/"
        }
      },
      "source": [
        "# Calculate the fitted values for each X\n",
        "y_hat = model.predict(x)\n",
        "\n",
        "# TODO: Assign correct value to rss\n",
        "rss = np.sum((y - y_hat)**2)\n",
        "# END OF TODO\n",
        "\n",
        "print(\"RSS for the model is: \", rss)"
      ],
      "execution_count": null,
      "outputs": [
        {
          "output_type": "stream",
          "text": [
            "RSS for the model is:  643657321143.4912\n"
          ],
          "name": "stdout"
        }
      ]
    },
    {
      "cell_type": "markdown",
      "metadata": {
        "id": "uXaxfMSgQVgm"
      },
      "source": [
        "##Multiple Linear Regression"
      ]
    },
    {
      "cell_type": "markdown",
      "metadata": {
        "id": "P2Up38A0QdKT"
      },
      "source": [
        "Using linear regression study the relationship between the features in our data and the average price. \n",
        "\n",
        "1.   Divide features and the response variable into different objects."
      ]
    },
    {
      "cell_type": "code",
      "metadata": {
        "id": "D26sEF3KQQp3",
        "outputId": "d35d2a14-ef88-45f5-d57c-59c4e220cd39",
        "colab": {
          "base_uri": "https://localhost:8080/"
        }
      },
      "source": [
        "# TODO: Assign features to X and the outcome to y\n",
        "X = prices_data.iloc[:,:3]\n",
        "y = prices_data.price\n",
        "# END OF TODO\n",
        "X.columns"
      ],
      "execution_count": null,
      "outputs": [
        {
          "output_type": "execute_result",
          "data": {
            "text/plain": [
              "Index(['house_type', 'sqft', 'age'], dtype='object')"
            ]
          },
          "metadata": {
            "tags": []
          },
          "execution_count": 8
        }
      ]
    },
    {
      "cell_type": "markdown",
      "metadata": {
        "id": "RR6VFGomRAGT"
      },
      "source": [
        "2. Add indicator variables for house type into the  data frame of the features."
      ]
    },
    {
      "cell_type": "code",
      "metadata": {
        "id": "6PJjW4nTQ_a7",
        "outputId": "dd97974e-380e-4ef5-c8dc-f76e93df9a9d",
        "colab": {
          "base_uri": "https://localhost:8080/"
        }
      },
      "source": [
        "# TODO: Update X\n",
        "X = pd.get_dummies(X, columns=['house_type'], drop_first=True)\n",
        "# END OF TODO\n",
        "\n",
        "if isinstance(X, pd.DataFrame):\n",
        "  print(X.head(3))"
      ],
      "execution_count": null,
      "outputs": [
        {
          "output_type": "stream",
          "text": [
            "     sqft        age  house_type_sfh  house_type_townhouse\n",
            "0  1380.0   1.873884               0                     0\n",
            "1  2137.0   0.655100               0                     1\n",
            "2  1639.0  22.591568               0                     0\n"
          ],
          "name": "stdout"
        }
      ]
    },
    {
      "cell_type": "markdown",
      "metadata": {
        "id": "-U7hYuZ9ROHG"
      },
      "source": [
        "3. Add age squared as a new feature to the data frame of the features."
      ]
    },
    {
      "cell_type": "code",
      "metadata": {
        "id": "f9BX251rRMi1",
        "outputId": "81410597-2f22-418c-b8b1-b8a53c161f06",
        "colab": {
          "base_uri": "https://localhost:8080/"
        }
      },
      "source": [
        "# TODO: Update X\n",
        "X['age_squared'] = X['age']**2\n",
        "# END OF TODO\n",
        "\n",
        "if isinstance(X, pd.DataFrame):\n",
        "  print(X.head(3))"
      ],
      "execution_count": null,
      "outputs": [
        {
          "output_type": "stream",
          "text": [
            "     sqft        age  house_type_sfh  house_type_townhouse  age_squared\n",
            "0  1380.0   1.873884               0                     0     3.511440\n",
            "1  2137.0   0.655100               0                     1     0.429156\n",
            "2  1639.0  22.591568               0                     0   510.378927\n"
          ],
          "name": "stdout"
        }
      ]
    },
    {
      "cell_type": "markdown",
      "metadata": {
        "id": "xCwpQloyRocG"
      },
      "source": [
        "4. Apply a linear regression using `OLS` method in `statsmodels`. Don't forget to add an intercept column to the features using `sm.add_constant`."
      ]
    },
    {
      "cell_type": "code",
      "metadata": {
        "id": "HKyDP4qsRgiL",
        "outputId": "db3cd260-4387-47b6-a92a-97cf59faa7ae",
        "colab": {
          "base_uri": "https://localhost:8080/"
        }
      },
      "source": [
        "# TODO: fit the model\n",
        "x_with_intercept = sm.add_constant(X)\n",
        "model = sm.OLS(y, x_with_intercept).fit()\n",
        "# END OF TODO\n",
        "\n",
        "if isinstance(model, sm.regression.linear_model.RegressionResultsWrapper):\n",
        "  print(model.summary())"
      ],
      "execution_count": null,
      "outputs": [
        {
          "output_type": "stream",
          "text": [
            "                            OLS Regression Results                            \n",
            "==============================================================================\n",
            "Dep. Variable:                  price   R-squared:                       0.319\n",
            "Model:                            OLS   Adj. R-squared:                  0.301\n",
            "Method:                 Least Squares   F-statistic:                     18.14\n",
            "Date:                Fri, 30 Oct 2020   Prob (F-statistic):           9.39e-15\n",
            "Time:                        00:15:42   Log-Likelihood:                -2454.3\n",
            "No. Observations:                 200   AIC:                             4921.\n",
            "Df Residuals:                     194   BIC:                             4940.\n",
            "Df Model:                           5                                         \n",
            "Covariance Type:            nonrobust                                         \n",
            "========================================================================================\n",
            "                           coef    std err          t      P>|t|      [0.025      0.975]\n",
            "----------------------------------------------------------------------------------------\n",
            "const                 2.035e+05   1.81e+04     11.254      0.000    1.68e+05    2.39e+05\n",
            "sqft                    31.1996     11.462      2.722      0.007       8.594      53.805\n",
            "age                  -1183.4972    336.537     -3.517      0.001   -1847.238    -519.756\n",
            "house_type_sfh        4.826e+04   1.31e+04      3.681      0.000    2.24e+04    7.41e+04\n",
            "house_type_townhouse  1.003e+04   9482.668      1.057      0.292   -8676.948    2.87e+04\n",
            "age_squared              9.6372      2.586      3.726      0.000       4.536      14.738\n",
            "==============================================================================\n",
            "Omnibus:                        0.871   Durbin-Watson:                   1.904\n",
            "Prob(Omnibus):                  0.647   Jarque-Bera (JB):                0.991\n",
            "Skew:                           0.124   Prob(JB):                        0.609\n",
            "Kurtosis:                       2.760   Cond. No.                     2.92e+04\n",
            "==============================================================================\n",
            "\n",
            "Warnings:\n",
            "[1] Standard Errors assume that the covariance matrix of the errors is correctly specified.\n",
            "[2] The condition number is large, 2.92e+04. This might indicate that there are\n",
            "strong multicollinearity or other numerical problems.\n"
          ],
          "name": "stdout"
        }
      ]
    },
    {
      "cell_type": "markdown",
      "metadata": {
        "id": "EEKuKKuXSYDP"
      },
      "source": [
        "5. From the model summary, what is the estimated coefficient for square footage (i.e., $\\hat{\\beta}_{\\text{sqft}}$)? Can we confidently say that the real coefficient of square footage (i.e., $\\beta_{\\text{sqft}}$) is positive? How do you interpret the estimated coefficient?\n",
        "\n",
        "_Answer_: the estimated coefficient for square footage is ~31.2. Given the confidence interval of (8.594, 53.8), we can assert we are confident the real value of the coefficient is positive, i.e. higher square footage is associated with higher house price. The coefficient should be interpreted as follows: keeping all other features the same, a 1-unit increase in square footage is associated with a $31 increase in the average price of a house."
      ]
    },
    {
      "cell_type": "markdown",
      "metadata": {
        "id": "NJi_tLNJTQL5"
      },
      "source": [
        "6. What is the R-squared of the model?"
      ]
    },
    {
      "cell_type": "code",
      "metadata": {
        "id": "6CYnZjua2uDq",
        "outputId": "0417813a-a3d6-4fec-c298-106ba9061ea9",
        "colab": {
          "base_uri": "https://localhost:8080/"
        }
      },
      "source": [
        "# R-squared of the model\n",
        "print(f\"R-squared of model: {model.rsquared}\")"
      ],
      "execution_count": null,
      "outputs": [
        {
          "output_type": "stream",
          "text": [
            "R-squared of model: 0.3186187071548071\n"
          ],
          "name": "stdout"
        }
      ]
    },
    {
      "cell_type": "markdown",
      "metadata": {
        "id": "T4IhlZNwTmf6"
      },
      "source": [
        "7. Compute the fitted values and the residuals for the model, and plot residuals vs. fitted values. Does the plot show any obvious issues with the model?"
      ]
    },
    {
      "cell_type": "code",
      "metadata": {
        "id": "RS3zjEv7SMdW",
        "outputId": "9a9a313e-74aa-49d2-9082-4961d33db67f",
        "colab": {
          "base_uri": "https://localhost:8080/",
          "height": 320
        }
      },
      "source": [
        "# TODO: Assign correct values to y_hat and residuals\n",
        "y_hat = model.predict(x_with_intercept)\n",
        "residuals = y - y_hat\n",
        "# END OF TODO\n",
        "\n",
        "import seaborn as sns\n",
        "from matplotlib import pyplot as plt\n",
        "%matplotlib inline\n",
        "\n",
        "fig, ax = plt.subplots(figsize=(6,5))\n",
        "_ = ax.scatter(y_hat, residuals)"
      ],
      "execution_count": null,
      "outputs": [
        {
          "output_type": "display_data",
          "data": {
            "image/png": "[encoded data removed]",
            "text/plain": [
              "<Figure size 432x360 with 1 Axes>"
            ]
          },
          "metadata": {
            "tags": [],
            "needs_background": "light"
          }
        }
      ]
    },
    {
      "cell_type": "markdown",
      "metadata": {
        "id": "Hnv5xX4i3PaL"
      },
      "source": [
        "_Answer_: since there is no clear observable pattern in the residuals, we can assert that there's no obvious issues with the model."
      ]
    }
  ]
}
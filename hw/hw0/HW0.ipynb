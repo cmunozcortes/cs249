{
 "cells": [
  {
   "cell_type": "markdown",
   "metadata": {},
   "source": [
    "# CS429, Fall 2020\n",
    "## Problem Set 0: Fundamentals\n"
   ]
  },
  {
   "cell_type": "code",
   "execution_count": 7,
   "metadata": {},
   "outputs": [],
   "source": [
    "import scipy.linalg as linalg"
   ]
  },
  {
   "cell_type": "markdown",
   "metadata": {},
   "source": [
    "### 1 Linear Algebra\n",
    "Given the matrix $A := \\begin{pmatrix} 1 & 2 & 3 \\\\ 1 & 2 & 3 \\\\ 1 & 2 & 3 \\end{pmatrix}$, calculate:"
   ]
  },
  {
   "cell_type": "code",
   "execution_count": 4,
   "metadata": {},
   "outputs": [],
   "source": [
    "A = np.array([[1,2,3],\n",
    "              [1,2,3],\n",
    "              [1,2,3]])"
   ]
  },
  {
   "cell_type": "markdown",
   "metadata": {},
   "source": [
    "a. The column space of A"
   ]
  },
  {
   "cell_type": "markdown",
   "metadata": {},
   "source": [
    "b. The null space of A"
   ]
  },
  {
   "cell_type": "code",
   "execution_count": 9,
   "metadata": {},
   "outputs": [
    {
     "data": {
      "text/plain": [
       "array([[-0.15607246, -0.95090105],\n",
       "       [-0.7970533 ,  0.2810547 ],\n",
       "       [ 0.58339302,  0.12959722]])"
      ]
     },
     "execution_count": 9,
     "metadata": {},
     "output_type": "execute_result"
    }
   ],
   "source": [
    "linalg.null_space(A)"
   ]
  },
  {
   "cell_type": "markdown",
   "metadata": {},
   "source": [
    "c. The eigenvalues of A"
   ]
  },
  {
   "cell_type": "markdown",
   "metadata": {},
   "source": [
    "d. The eigenvalues of $B := \\begin{pmatrix} 4 & 2 & 3 \\\\ 1 & 5 & 3 \\\\ 1 & 2 & 6 \\end{pmatrix}$. Hint: B = A + 3I"
   ]
  },
  {
   "cell_type": "markdown",
   "metadata": {},
   "source": [
    "Find the eigenvalues of the matrix $\\begin{pmatrix} b & 0 & 0 \\\\ 0 & e & 0 \\\\ 0 & 0 & g\\end{pmatrix}$"
   ]
  },
  {
   "cell_type": "markdown",
   "metadata": {},
   "source": [
    "### 2 Probability\n",
    "\n",
    "a. Consider the following probability density function. What is the probability for $X \\leq 6$.\n",
    "$$ f(x) = \\dfrac{1}{8} e^{-\\frac{x}{8}}\\,\\,\\,\\mathbf{for}\\,\\,\\, x \\geq 0 $$"
   ]
  },
  {
   "cell_type": "markdown",
   "metadata": {},
   "source": [
    "b. What is Markov's inequality? What does it say?"
   ]
  },
  {
   "cell_type": "markdown",
   "metadata": {},
   "source": [
    "c. What is the expected sum of the values after $n$ rolls of a dice?"
   ]
  },
  {
   "cell_type": "markdown",
   "metadata": {},
   "source": [
    "d. A person with a 1.5% lifetime risk of breast cancer (risk of having a cancerous tumor), ended up with a mass detected in their mamogram. Mass detection have a false positive rate of 0.1 and false negative rate of 0.8. What is the probability of that person having a cancerous mass? "
   ]
  },
  {
   "cell_type": "code",
   "execution_count": null,
   "metadata": {},
   "outputs": [],
   "source": []
  }
 ],
 "metadata": {
  "kernelspec": {
   "display_name": "Python 3",
   "language": "python",
   "name": "python3"
  },
  "language_info": {
   "codemirror_mode": {
    "name": "ipython",
    "version": 3
   },
   "file_extension": ".py",
   "mimetype": "text/x-python",
   "name": "python",
   "nbconvert_exporter": "python",
   "pygments_lexer": "ipython3",
   "version": "3.7.1"
  }
 },
 "nbformat": 4,
 "nbformat_minor": 2
}

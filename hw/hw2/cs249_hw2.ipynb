{
  "nbformat": 4,
  "nbformat_minor": 0,
  "metadata": {
    "colab": {
      "name": "cs249-hw2",
      "provenance": [],
      "collapsed_sections": [],
      "authorship_tag": "ABX9TyNANXbkhD9RmjLJbUYgdcpR",
      "include_colab_link": true
    },
    "kernelspec": {
      "name": "python3",
      "display_name": "Python 3"
    }
  },
  "cells": [
    {
      "cell_type": "markdown",
      "metadata": {
        "id": "view-in-github",
        "colab_type": "text"
      },
      "source": [
        "<a href=\"https://colab.research.google.com/github/cmunozcortes/cs249/blob/main/cs249_hw2.ipynb\" target=\"_parent\"><img src=\"https://colab.research.google.com/assets/colab-badge.svg\" alt=\"Open In Colab\"/></a>"
      ]
    },
    {
      "cell_type": "markdown",
      "metadata": {
        "id": "CJ-zxBVdHJEo"
      },
      "source": [
        "# CS249 Problem Set 2: Statistical Inference II\n",
        "\n",
        "## 1 Hypothesis Testing"
      ]
    },
    {
      "cell_type": "code",
      "metadata": {
        "id": "NgLD5R8xHE-X"
      },
      "source": [
        "import numpy as np\n",
        "from scipy import stats\n",
        "\n",
        "y_1 = np.array([143, 102, 119, 157, 146, 61, 119, 85, 87, 102])\n",
        "y_2 = np.array([77, 143, 108, 76, 92, 87, 145, 60, 86, 27])\n",
        "y_3 = np.array([19, 83, 87, 55, 115, 41, 71, 66, 101, 99])"
      ],
      "execution_count": null,
      "outputs": []
    },
    {
      "cell_type": "code",
      "metadata": {
        "id": "CBNI2Vk0Xu5J",
        "outputId": "b2a894ce-c456-4255-ee1e-3c517358fd9e",
        "colab": {
          "base_uri": "https://localhost:8080/",
          "height": 299
        }
      },
      "source": [
        "import matplotlib.pyplot as plt\n",
        "\n",
        "plt.hist(y_1)\n",
        "print(np.mean(y_1))\n",
        "print(np.std(y_1))"
      ],
      "execution_count": null,
      "outputs": [
        {
          "output_type": "stream",
          "text": [
            "112.1\n",
            "28.973953820630005\n"
          ],
          "name": "stdout"
        },
        {
          "output_type": "display_data",
          "data": {
            "image/png": "[encoded data removed]",
            "text/plain": [
              "<Figure size 432x288 with 1 Axes>"
            ]
          },
          "metadata": {
            "tags": [],
            "needs_background": "light"
          }
        }
      ]
    },
    {
      "cell_type": "markdown",
      "metadata": {
        "id": "82it86mUIKXb"
      },
      "source": [
        "(a) Can your friend expect an increase in her salary on average if she chooses \\#1?\n",
        "\n",
        "In this case the more appropriate null hypothesis would be a one-tailed test, where we rejec the null hypothesis if $\\frac{p}{2} < \\alpha$ and $t>0$ (i.e. _greater-than_ test)."
      ]
    },
    {
      "cell_type": "code",
      "metadata": {
        "id": "Y1O7HSogIUqO",
        "outputId": "96b8be0c-8e29-43cc-c07b-673d51a818ce",
        "colab": {
          "base_uri": "https://localhost:8080/"
        }
      },
      "source": [
        "# Null hypothesis: H_0: mean <= 70k\n",
        "mu_0 = 70\n",
        "t_stat, p_val = stats.ttest_1samp(y_1, mu_0)\n",
        "print(f\"t-stat: {t_stat}\")\n",
        "print(f\"p-value: {p_val/2}\")"
      ],
      "execution_count": null,
      "outputs": [
        {
          "output_type": "stream",
          "text": [
            "t-stat: 4.35908750258558\n",
            "p-value: 0.0009129462580935929\n"
          ],
          "name": "stdout"
        }
      ]
    },
    {
      "cell_type": "markdown",
      "metadata": {
        "id": "x98IHbUuLit5"
      },
      "source": [
        "Since $\\frac{p}{2} < \\alpha$ and $t>0$, we reject the null hypothesis. Therefore, our friend should not expect an increase in her salary on average if she chooses \\#1."
      ]
    },
    {
      "cell_type": "markdown",
      "metadata": {
        "id": "dy87tw2fML12"
      },
      "source": [
        "(b) Is there any difference between the average salary of the three choices?\n",
        "\n",
        "We can answer this question by doing a $k$-group test on the three sets with a null hypothesis $H_0: \\mu_1 = \\mu_2 = \\mu_3$."
      ]
    },
    {
      "cell_type": "code",
      "metadata": {
        "id": "UfKvMChcLvqH",
        "outputId": "06b488e7-3e96-4cdc-a592-6648fb204aea",
        "colab": {
          "base_uri": "https://localhost:8080/"
        }
      },
      "source": [
        "f_stat, p_val = stats.f_oneway(y_1, y_2, y_3)\n",
        "print(f\"f-stat: {f_stat}\")\n",
        "print(f\"p-value: {p_val}\")"
      ],
      "execution_count": null,
      "outputs": [
        {
          "output_type": "stream",
          "text": [
            "f-stat: 3.62553394652035\n",
            "p-value: 0.0403004821014734\n"
          ],
          "name": "stdout"
        }
      ]
    },
    {
      "cell_type": "markdown",
      "metadata": {
        "id": "MGDlmTQHM6Sn"
      },
      "source": [
        "In this case we have strong enough evidence to assert that the mean salary of the three choices are different from eacher."
      ]
    },
    {
      "cell_type": "markdown",
      "metadata": {
        "id": "y64BIXOiNIPG"
      },
      "source": [
        "(c) Is there any difference between the average salary of \\#1 and \\#3?\n",
        "\n",
        "As with the previous questions, we can answer this question by proposing a null hypothesis $H_0: \\mu_1 = \\mu_3$ and verifying its validity."
      ]
    },
    {
      "cell_type": "code",
      "metadata": {
        "id": "EabNKJUSNHOo",
        "outputId": "313e5fc1-4a81-44b3-fe92-e6c16333c6ca",
        "colab": {
          "base_uri": "https://localhost:8080/"
        }
      },
      "source": [
        "t_stat, p_val = stats.ttest_ind(y_1, y_3, equal_var=True)\n",
        "print(f\"t-stat: {t_stat}\")\n",
        "print(f\"p-value: {p_val}\")"
      ],
      "execution_count": null,
      "outputs": [
        {
          "output_type": "stream",
          "text": [
            "t-stat: 2.8597848493128635\n",
            "p-value: 0.010410173215386046\n"
          ],
          "name": "stdout"
        }
      ]
    },
    {
      "cell_type": "markdown",
      "metadata": {
        "id": "2n4BKMbRNx1-"
      },
      "source": [
        "Since $p < \\alpha$ we can reject the null hypothesis and assert that the mean salary for choice 1 and choice 2 are different."
      ]
    },
    {
      "cell_type": "markdown",
      "metadata": {
        "id": "FrCX7-PEQLYO"
      },
      "source": [
        "##2 Regression to the Mean\n",
        "\n",
        "(a) Assume `x` represents the height of the father and `y` represents the height of the son. Standardize the two covariates."
      ]
    },
    {
      "cell_type": "code",
      "metadata": {
        "id": "aGkpAH7XT_k4",
        "outputId": "57fb3fb8-a74f-411d-fd7c-f93294cda574",
        "colab": {
          "base_uri": "https://localhost:8080/"
        }
      },
      "source": [
        "import pandas as pd\n",
        "from google.colab import drive\n",
        "\n",
        "drive.mount('/content/drive')"
      ],
      "execution_count": null,
      "outputs": [
        {
          "output_type": "stream",
          "text": [
            "Mounted at /content/drive\n"
          ],
          "name": "stdout"
        }
      ]
    },
    {
      "cell_type": "code",
      "metadata": {
        "id": "rRFzBDdMbHg3",
        "outputId": "27a4fbb8-5eaf-4cae-89ad-6f9a03862724",
        "colab": {
          "base_uri": "https://localhost:8080/"
        }
      },
      "source": [
        "df = pd.read_csv('/content/drive/My Drive/father_son.txt', delim_whitespace=True)\n",
        "df.head()\n",
        "print(df.describe())"
      ],
      "execution_count": null,
      "outputs": [
        {
          "output_type": "stream",
          "text": [
            "            Father          Son\n",
            "count  1078.000000  1078.000000\n",
            "mean     67.686827    68.684230\n",
            "std       2.745827     2.816194\n",
            "min      59.000000    58.500000\n",
            "25%      65.800000    66.900000\n",
            "50%      67.800000    68.600000\n",
            "75%      69.600000    70.500000\n",
            "max      75.400000    78.400000\n"
          ],
          "name": "stdout"
        }
      ]
    },
    {
      "cell_type": "code",
      "metadata": {
        "id": "kGFxRsm-bu5b",
        "outputId": "ac879d2d-1600-49a4-bae2-e67c36301772",
        "colab": {
          "base_uri": "https://localhost:8080/",
          "height": 413
        }
      },
      "source": [
        "# Standardize the two covariates\n",
        "def transform_feature(feature):\n",
        "  return (feature - np.mean(feature)) / np.std(feature)\n",
        "\n",
        "x = transform_feature(df['Father'])\n",
        "y = transform_feature(df['Son'])\n",
        "\n",
        "import matplotlib.pyplot as plt\n",
        "\n",
        "print(plt.style.available)\n",
        "plt.style.use('seaborn')\n",
        "\n",
        "fig, ax = plt.subplots()\n",
        "ax.scatter(x, y)\n",
        "\n",
        "# Create y=x line (intuition line of best fit)\n",
        "x_int = np.linspace(-3,3)\n",
        "y_int = x_int\n",
        "ax.plot(x_int, y_int, linestyle='dashed', color='C1')\n",
        "\n",
        "from sklearn.linear_model import LinearRegression\n",
        "\n",
        "x = x.values.reshape(-1, 1)\n",
        "y = y.values.reshape(-1,1)\n",
        "model = LinearRegression()\n",
        "model.fit(x,y)\n",
        "y_hat = model.predict(x)\n",
        "ax.plot(x, y_hat, linestyle='dashed', color='C2')\n",
        "ax.legend(['Intuition line of best fit', 'Line of best fit'])\n",
        "ax.set_title('Linear Regression for Son Height vs Father Height')\n",
        "ax.set_ylabel('Son height (in)')\n",
        "ax.set_xlabel('Father height (in)')\n",
        "plt.savefig('/content/drive/My Drive/father_son_scatter.png', dpi=300)\n"
      ],
      "execution_count": null,
      "outputs": [
        {
          "output_type": "stream",
          "text": [
            "['Solarize_Light2', '_classic_test_patch', 'bmh', 'classic', 'dark_background', 'fast', 'fivethirtyeight', 'ggplot', 'grayscale', 'seaborn', 'seaborn-bright', 'seaborn-colorblind', 'seaborn-dark', 'seaborn-dark-palette', 'seaborn-darkgrid', 'seaborn-deep', 'seaborn-muted', 'seaborn-notebook', 'seaborn-paper', 'seaborn-pastel', 'seaborn-poster', 'seaborn-talk', 'seaborn-ticks', 'seaborn-white', 'seaborn-whitegrid', 'tableau-colorblind10']\n"
          ],
          "name": "stdout"
        },
        {
          "output_type": "display_data",
          "data": {
            "image/png": "[encoded data removed]",
            "text/plain": [
              "<Figure size 576x396 with 1 Axes>"
            ]
          },
          "metadata": {
            "tags": []
          }
        }
      ]
    },
    {
      "cell_type": "markdown",
      "metadata": {
        "id": "5GC7n_i7f2tN"
      },
      "source": [
        "(c) Fit a linear regresion where the response variable is `y`. Draw the line corresponding to the fitted regression line in the scatter plot. Does this line match your intuition from the previous part?\n",
        "\n",
        "See code above. "
      ]
    },
    {
      "cell_type": "markdown",
      "metadata": {
        "id": "q3WprKoIF7ig"
      },
      "source": [
        "(d) Based on the fitted regression line, if a father is 10 inches taller than the average, how much greater is the expected height of the son compared to the average? And if a father is 10 inches shorter than the average, how much smaller is the expected height of the son compared to the average?"
      ]
    },
    {
      "cell_type": "code",
      "metadata": {
        "id": "2NmZd4XqYp52"
      },
      "source": [
        "# Father 10 in taller than the average\n",
        "x_father = df['Father'].mean() + 10\n",
        "\n",
        "# Transform the value to match the scale of the model fit\n",
        "x_father = (x_father - df['Father'].mean()) / df['Father'].std()\n",
        "x_father = np.array([x_father])"
      ],
      "execution_count": null,
      "outputs": []
    },
    {
      "cell_type": "code",
      "metadata": {
        "id": "wzncCLfmbL6Q",
        "outputId": "60cc2721-030f-4750-d8f7-87abeee3eef8",
        "colab": {
          "base_uri": "https://localhost:8080/"
        }
      },
      "source": [
        "# Son height for x_father\n",
        "y_hat_son = model.predict(x_father.reshape(-1,1))\n",
        "y_hat_son = y_hat_son[0][0] * df['Son'].std() + df['Son'].mean()\n",
        "print(f\"The son is {y_hat_son - df['Son'].mean()} inches taller than the average\")"
      ],
      "execution_count": null,
      "outputs": [
        {
          "output_type": "stream",
          "text": [
            "The son is 5.1400591254559345 inches taller than the average\n"
          ],
          "name": "stdout"
        }
      ]
    },
    {
      "cell_type": "code",
      "metadata": {
        "id": "t5mDxo__gJgW",
        "outputId": "46ff1134-b3fe-47e9-b0ad-79ed677851eb",
        "colab": {
          "base_uri": "https://localhost:8080/"
        }
      },
      "source": [
        "# What if the father is 10 in shorted than the average?\n",
        "x_father_2 = df['Father'].mean() - 10\n",
        "x_father_2 = (x_father_2 - df['Father'].mean()) / df['Father'].std()\n",
        "x_father_2 = np.array([x_father_2]).reshape(-1,1)\n",
        "\n",
        "y_hat_son_2 = model.predict(x_father_2)\n",
        "y_hat_son_2 = y_hat_son_2[0][0] * df['Son'].std() + df['Son'].mean()\n",
        "print(f\"The son is {np.abs(y_hat_son_2 - df['Son'].mean())} inches shorter than the average\")\n"
      ],
      "execution_count": null,
      "outputs": [
        {
          "output_type": "stream",
          "text": [
            "The son is 5.14005912545592 inches shorter than the average\n"
          ],
          "name": "stdout"
        }
      ]
    },
    {
      "cell_type": "markdown",
      "metadata": {
        "id": "1j6AJFa1Mx3T"
      },
      "source": [
        "(d) Based on the answer to the previous part, do you think it is fair to say \n",
        "that heights become more and more \"average\" over time? Read about\n",
        "\"regression to the mean\" and revisit your answer."
      ]
    },
    {
      "cell_type": "markdown",
      "metadata": {
        "id": "B-OxyUMXM4Ac"
      },
      "source": [
        "##3 Linear Regression\n",
        "In this problem, we are going to see what happens if we use a linear regression to model the relationship between two independent random variables.\n",
        "\n",
        "(a) Simulate 1000 data points from a normal distribution with mean 0 and standard deviation 1. Assign it to a variable named x. Simulate another 1000 data points from a similar normal distribution and assign them to variable y. Run a linear regression of y vs. x. Use statsmodels to view the statistical properties of the model. What is the slope of the model? Report your observations."
      ]
    },
    {
      "cell_type": "code",
      "metadata": {
        "id": "Y1o4QDUpM22R",
        "outputId": "76736e1d-fd30-44c8-9769-0860347bb8b9",
        "colab": {
          "base_uri": "https://localhost:8080/"
        }
      },
      "source": [
        "# Simulate 1000 data points from a normal distribution with a mean 0 and std 1\n",
        "import numpy as np\n",
        "\n",
        "np.random.seed(0)\n",
        "x = np.random.normal(0,1,1000)\n",
        "y = np.random.normal(0,1,1000)\n",
        "\n",
        "import statsmodels.api as sm\n",
        "\n",
        "x_with_intercept = sm.add_constant(x)\n",
        "model = sm.OLS(y, x_with_intercept).fit()\n",
        "y_hat = model.predict(x_with_intercept)\n",
        "\n",
        "print(model.summary())"
      ],
      "execution_count": null,
      "outputs": [
        {
          "output_type": "stream",
          "text": [
            "/usr/local/lib/python3.6/dist-packages/statsmodels/tools/_testing.py:19: FutureWarning: pandas.util.testing is deprecated. Use the functions in the public API at pandas.testing instead.\n",
            "  import pandas.util.testing as tm\n"
          ],
          "name": "stderr"
        },
        {
          "output_type": "stream",
          "text": [
            "                            OLS Regression Results                            \n",
            "==============================================================================\n",
            "Dep. Variable:                      y   R-squared:                       0.001\n",
            "Model:                            OLS   Adj. R-squared:                 -0.000\n",
            "Method:                 Least Squares   F-statistic:                    0.9918\n",
            "Date:                Thu, 12 Nov 2020   Prob (F-statistic):              0.320\n",
            "Time:                        02:34:28   Log-Likelihood:                -1386.1\n",
            "No. Observations:                1000   AIC:                             2776.\n",
            "Df Residuals:                     998   BIC:                             2786.\n",
            "Df Model:                           1                                         \n",
            "Covariance Type:            nonrobust                                         \n",
            "==============================================================================\n",
            "                 coef    std err          t      P>|t|      [0.025      0.975]\n",
            "------------------------------------------------------------------------------\n",
            "const          0.0122      0.031      0.398      0.690      -0.048       0.072\n",
            "x1            -0.0309      0.031     -0.996      0.320      -0.092       0.030\n",
            "==============================================================================\n",
            "Omnibus:                        1.076   Durbin-Watson:                   2.074\n",
            "Prob(Omnibus):                  0.584   Jarque-Bera (JB):                1.155\n",
            "Skew:                           0.059   Prob(JB):                        0.561\n",
            "Kurtosis:                       2.883   Cond. No.                         1.05\n",
            "==============================================================================\n",
            "\n",
            "Warnings:\n",
            "[1] Standard Errors assume that the covariance matrix of the errors is correctly specified.\n"
          ],
          "name": "stdout"
        }
      ]
    },
    {
      "cell_type": "code",
      "metadata": {
        "id": "Lvo3RLleZBbX",
        "outputId": "5ad001af-44f2-4e8a-fc9c-eef683482668",
        "colab": {
          "base_uri": "https://localhost:8080/"
        }
      },
      "source": [
        "# The second coefficient should be what we need to get the slope\n",
        "model.params[1]"
      ],
      "execution_count": null,
      "outputs": [
        {
          "output_type": "execute_result",
          "data": {
            "text/plain": [
              "-0.03090580160213685"
            ]
          },
          "metadata": {
            "tags": []
          },
          "execution_count": 2
        }
      ]
    },
    {
      "cell_type": "markdown",
      "metadata": {
        "id": "UDVEbDxpV78H"
      },
      "source": [
        "(b) Repeat the simulation in the previous part 100 times and gather the slopes in a list.  Draw the distribution, and report your conclusions based on the result."
      ]
    },
    {
      "cell_type": "code",
      "metadata": {
        "id": "oI2bIg5EV9ZS",
        "outputId": "0afa531c-bff3-405e-fc96-e66fc44fca26",
        "colab": {
          "base_uri": "https://localhost:8080/",
          "height": 410
        }
      },
      "source": [
        "import matplotlib.pyplot as plt\n",
        "plt.style.use('seaborn-notebook')\n",
        "\n",
        "slopes = []\n",
        "for i in range(100):\n",
        "  x = np.random.normal(0,1,1000)\n",
        "  y = np.random.normal(0,1,1000)\n",
        "  x_with_intercept = sm.add_constant(x)\n",
        "  model = sm.OLS(y, x_with_intercept).fit()\n",
        "  slopes.append(model.params[1])\n",
        "\n",
        "slope_std = np.std(slopes)\n",
        "slope_mean = np.mean(slopes)\n",
        "print(f\"Slope std: {slope_std}\")\n",
        "print(f\"Slope mean: {slope_mean}\")\n",
        "\n",
        "plt.hist(slopes, ec='azure')\n",
        "plt.title('Distribution of slope values')\n",
        "plt.xlabel('OLS regression slope')\n",
        "plt.ylabel('Count')\n",
        "plt.savefig('/content/drive/My Drive/slopes_dist.png', dpi=300)"
      ],
      "execution_count": null,
      "outputs": [
        {
          "output_type": "stream",
          "text": [
            "Slope std: 0.031183945417069134\n",
            "Slope mean: 0.0004377180928831416\n"
          ],
          "name": "stdout"
        },
        {
          "output_type": "display_data",
          "data": {
            "image/png": "[encoded data removed]",
            "text/plain": [
              "<Figure size 576x396 with 1 Axes>"
            ]
          },
          "metadata": {
            "tags": []
          }
        }
      ]
    },
    {
      "cell_type": "code",
      "metadata": {
        "id": "QKB5lfevbeHq"
      },
      "source": [
        ""
      ],
      "execution_count": null,
      "outputs": []
    }
  ]
}